{
 "cells": [
  {
   "cell_type": "markdown",
   "metadata": {},
   "source": [
    "# TensorFlow Convolutional Neural Network for Image Classification"
   ]
  },
  {
   "cell_type": "code",
   "execution_count": 2,
   "metadata": {},
   "outputs": [
    {
     "name": "stderr",
     "output_type": "stream",
     "text": [
      "C:\\Users\\Tulika\\Anaconda3\\lib\\site-packages\\h5py\\__init__.py:36: FutureWarning: Conversion of the second argument of issubdtype from `float` to `np.floating` is deprecated. In future, it will be treated as `np.float64 == np.dtype(float).type`.\n",
      "  from ._conv import register_converters as _register_converters\n"
     ]
    }
   ],
   "source": [
    "import time\n",
    "import math\n",
    "import random\n",
    "\n",
    "import pandas as pd\n",
    "import numpy as np\n",
    "import matplotlib.pyplot as plt\n",
    "import tensorflow as tf\n",
    "import dataset\n",
    "import cv2\n",
    "\n",
    "from sklearn.metrics import confusion_matrix\n",
    "from datetime import timedelta\n",
    "\n",
    "%matplotlib inline"
   ]
  },
  {
   "cell_type": "markdown",
   "metadata": {},
   "source": [
    "## Configuration and Hyperparameters"
   ]
  },
  {
   "cell_type": "code",
   "execution_count": 109,
   "metadata": {},
   "outputs": [],
   "source": [
    "# Convolutional Layer 1.\n",
    "filter_size1 = 3 \n",
    "num_filters1 = 32\n",
    "\n",
    "# Convolutional Layer 2.\n",
    "filter_size2 = 3\n",
    "num_filters2 = 32\n",
    "\n",
    "# Convolutional Layer 3.\n",
    "filter_size3 = 3\n",
    "num_filters3 = 64\n",
    "\n",
    "# Fully-connected layer.\n",
    "fc_size = 128             # Number of neurons in fully-connected layer.\n",
    "\n",
    "# Number of color channels for the images: 1 channel for gray-scale.\n",
    "num_channels = 3\n",
    "\n",
    "# image dimensions (only squares for now)\n",
    "img_size = 128\n",
    "\n",
    "# Size of image when flattened to a single dimension\n",
    "img_size_flat = img_size * img_size * num_channels\n",
    "\n",
    "# Tuple with height and width of images used to reshape arrays.\n",
    "img_shape = (img_size, img_size)\n",
    "\n",
    "# class info\n",
    "#classes=[\"dogs\",\"cats\"]\n",
    "#classes=[\"s1\",\"s2\",\"s3\",\"s4\",\"s6\",\"s7\",\"s8\",\"s10\",\"s11\",\"s12\",\"s14\",\"s15\",\"s17\",\"s18\",\"s19\",\"s20\",\"s21\"]\n",
    "classes = [\"001.Black_footed_Albatross\",\"002.Laysan_Albatross\"]\n",
    "#classes = [\"001.Black_footed_Albatross\",\"002.Laysan_Albatross\",\"003.Sooty_Albatross\",\n",
    "      #     \"004.Groove_billed_Ani\",\"005.Crested_Auklet\",\"006.Least_Auklet\",\n",
    "       #    \"007.Parakeet_Auklet\",\"008.Rhinoceros_Auklet\",\"009.Brewer_Blackbird\",\"010.Red_winged_Blackbird\"]\n",
    "#classes=[\"001.Black_footed_Albatross\",\"002.Laysan_Albatross\",\"003.Sooty_Albatross\",\"004.Groove_billed_Ani\",\"005.Crested_Auklet\",\"006.Least_Auklet\",\"007.Parakeet_Auklet\",\"008.Rhinoceros_Auklet\",\"009.Brewer_Blackbird\",\"010.Red_winged_Blackbird\"]\n",
    "num_classes = len(classes)\n",
    "\n",
    "# batch size\n",
    "batch_size = 32\n",
    "\n",
    "# validation split\n",
    "validation_size = .54\n",
    "\n",
    "# how long to wait after validation loss stops improving before terminating training\n",
    "early_stopping = None  # use None if you don't want to implement early stoping\n",
    "\n",
    "train_path = 'B:/New folder/tensorflow-image-classification-master/train3'\n",
    "test_path = 'B:/New folder/tensorflow-image-classification-master/test'\n",
    "checkpoint_dir = \"models/\""
   ]
  },
  {
   "cell_type": "markdown",
   "metadata": {},
   "source": [
    "## Load Data"
   ]
  },
  {
   "cell_type": "code",
   "execution_count": 110,
   "metadata": {},
   "outputs": [
    {
     "name": "stdout",
     "output_type": "stream",
     "text": [
      "Reading training images\n",
      "Loading 001.Black_footed_Albatross files (Index: 0)\n",
      "Loading 002.Laysan_Albatross files (Index: 1)\n",
      "Reading test images\n"
     ]
    }
   ],
   "source": [
    "data = dataset.read_train_sets(train_path, img_size, classes, validation_size=validation_size)\n",
    "test_images, test_ids = dataset.read_test_set(test_path, img_size)"
   ]
  },
  {
   "cell_type": "code",
   "execution_count": 111,
   "metadata": {},
   "outputs": [
    {
     "name": "stdout",
     "output_type": "stream",
     "text": [
      "Size of:\n",
      "- Training-set:\t\t56\n",
      "- Test-set:\t\t84\n",
      "- Validation-set:\t64\n"
     ]
    }
   ],
   "source": [
    "print(\"Size of:\")\n",
    "print(\"- Training-set:\\t\\t{}\".format(len(data.train.labels)))\n",
    "print(\"- Test-set:\\t\\t{}\".format(len(test_images)))\n",
    "print(\"- Validation-set:\\t{}\".format(len(data.valid.labels)))"
   ]
  },
  {
   "cell_type": "markdown",
   "metadata": {},
   "source": [
    "### Helper-function for plotting images"
   ]
  },
  {
   "cell_type": "markdown",
   "metadata": {},
   "source": [
    "Function used to plot 9 images in a 3x3 grid (or fewer, depending on how many images are passed), and writing the true and predicted classes below each image."
   ]
  },
  {
   "cell_type": "code",
   "execution_count": 112,
   "metadata": {},
   "outputs": [],
   "source": [
    "def plot_images(images, cls_true, cls_pred=None):\n",
    "    \n",
    "    if len(images) == 0:\n",
    "        print(\"no images to show\")\n",
    "        return \n",
    "    else:\n",
    "        random_indices = random.sample(range(len(images)), min(len(images), 9))\n",
    "        \n",
    "        \n",
    "    images, cls_true  = zip(*[(images[i], cls_true[i]) for i in random_indices])\n",
    "    \n",
    "    # Create figure with 3x3 sub-plots.\n",
    "    fig, axes = plt.subplots(3, 3)\n",
    "    fig.subplots_adjust(hspace=0.3, wspace=0.3)\n",
    "\n",
    "    for i, ax in enumerate(axes.flat):\n",
    "        # Plot image.\n",
    "        ax.imshow(images[i].reshape(img_size, img_size, num_channels))\n",
    "\n",
    "        # Show true and predicted classes.\n",
    "        if cls_pred is None:\n",
    "            xlabel = \"True: {0}\".format(cls_true[i])\n",
    "        else:\n",
    "            xlabel = \"True: {0}, Pred: {1}\".format(cls_true[i], cls_pred[i])\n",
    "\n",
    "        # Show the classes as the label on the x-axis.\n",
    "        ax.set_xlabel(xlabel)\n",
    "        \n",
    "        # Remove ticks from the plot.\n",
    "        ax.set_xticks([])\n",
    "        ax.set_yticks([])\n",
    "    \n",
    "    # Ensure the plot is shown correctly with multiple plots\n",
    "    # in a single Notebook cell.\n",
    "    plt.show()"
   ]
  },
  {
   "cell_type": "markdown",
   "metadata": {},
   "source": [
    "### Plot a few images to see if data is correct"
   ]
  },
  {
   "cell_type": "code",
   "execution_count": 113,
   "metadata": {},
   "outputs": [
    {
     "data": {
      "image/png": "[encoded data removed]",
      "text/plain": [
       "<matplotlib.figure.Figure at 0x1c34c0edf98>"
      ]
     },
     "metadata": {},
     "output_type": "display_data"
    }
   ],
   "source": [
    "# Get some random images and their labels from the train set.\n",
    "\n",
    "images, cls_true  = data.train.images, data.train.cls\n",
    "\n",
    "# Plot the images and labels using our helper-function above.\n",
    "plot_images(images=images, cls_true=cls_true)"
   ]
  },
  {
   "cell_type": "markdown",
   "metadata": {},
   "source": [
    "## TensorFlow Graph\n",
    "\n",
    "The entire purpose of TensorFlow is to have a so-called computational graph that can be executed much more efficiently than if the same calculations were to be performed directly in Python. TensorFlow can be more efficient than NumPy because TensorFlow knows the entire computation graph that must be executed, while NumPy only knows the computation of a single mathematical operation at a time.\n",
    "\n",
    "TensorFlow can also automatically calculate the gradients that are needed to optimize the variables of the graph so as to make the model perform better. This is because the graph is a combination of simple mathematical expressions so the gradient of the entire graph can be calculated using the chain-rule for derivatives.\n",
    "\n",
    "A TensorFlow graph consists of the following parts which will be detailed below:\n",
    "\n",
    "* Placeholder variables used for inputting data to the graph.\n",
    "* Variables that are going to be optimized so as to make the convolutional network perform better.\n",
    "* The mathematical formulas for the convolutional network.\n",
    "* A cost measure that can be used to guide the optimization of the variables.\n",
    "* An optimization method which updates the variables."
   ]
  },
  {
   "cell_type": "markdown",
   "metadata": {},
   "source": [
    "### Helper-functions for creating new variables"
   ]
  },
  {
   "cell_type": "markdown",
   "metadata": {},
   "source": [
    "Functions for creating new TensorFlow variables in the given shape and initializing them with random values. Note that the initialization is not actually done at this point, it is merely being defined in the TensorFlow graph."
   ]
  },
  {
   "cell_type": "code",
   "execution_count": 114,
   "metadata": {},
   "outputs": [],
   "source": [
    "def new_weights(shape):\n",
    "    return tf.Variable(tf.truncated_normal(shape, stddev=0.05))"
   ]
  },
  {
   "cell_type": "code",
   "execution_count": 115,
   "metadata": {},
   "outputs": [],
   "source": [
    "def new_biases(length):\n",
    "    return tf.Variable(tf.constant(0.05, shape=[length]))"
   ]
  },
  {
   "cell_type": "markdown",
   "metadata": {},
   "source": [
    "### Helper-function for creating a new Convolutional Layer"
   ]
  },
  {
   "cell_type": "markdown",
   "metadata": {},
   "source": [
    "This function creates a new convolutional layer in the computational graph for TensorFlow. Nothing is actually calculated here, we are just adding the mathematical formulas to the TensorFlow graph.\n",
    "\n",
    "It is assumed that the input is a 4-dim tensor with the following dimensions:\n",
    "\n",
    "1. Image number.\n",
    "2. Y-axis of each image.\n",
    "3. X-axis of each image.\n",
    "4. Channels of each image.\n",
    "\n",
    "Note that the input channels may either be colour-channels, or it may be filter-channels if the input is produced from a previous convolutional layer.\n",
    "\n",
    "The output is another 4-dim tensor with the following dimensions:\n",
    "\n",
    "1. Image number, same as input.\n",
    "2. Y-axis of each image. If 2x2 pooling is used, then the height and width of the input images is divided by 2.\n",
    "3. X-axis of each image. Ditto.\n",
    "4. Channels produced by the convolutional filters."
   ]
  },
  {
   "cell_type": "code",
   "execution_count": 116,
   "metadata": {},
   "outputs": [],
   "source": [
    "def new_conv_layer(input,              # The previous layer.\n",
    "                   num_input_channels, # Num. channels in prev. layer.\n",
    "                   filter_size,        # Width and height of each filter.\n",
    "                   num_filters,        # Number of filters.\n",
    "                   use_pooling=True):  # Use 2x2 max-pooling.\n",
    "\n",
    "    # Shape of the filter-weights for the convolution.\n",
    "    # This format is determined by the TensorFlow API.\n",
    "    shape = [filter_size, filter_size, num_input_channels, num_filters]\n",
    "\n",
    "    # Create new weights aka. filters with the given shape.\n",
    "    weights = new_weights(shape=shape)\n",
    "\n",
    "    # Create new biases, one for each filter.\n",
    "    biases = new_biases(length=num_filters)\n",
    "\n",
    "    # Create the TensorFlow operation for convolution.\n",
    "    # Note the strides are set to 1 in all dimensions.\n",
    "    # The first and last stride must always be 1,\n",
    "    # because the first is for the image-number and\n",
    "    # the last is for the input-channel.\n",
    "    # But e.g. strides=[1, 2, 2, 1] would mean that the filter\n",
    "    # is moved 2 pixels across the x- and y-axis of the image.\n",
    "    # The padding is set to 'SAME' which means the input image\n",
    "    # is padded with zeroes so the size of the output is the same.\n",
    "    layer = tf.nn.conv2d(input=input,\n",
    "                         filter=weights,\n",
    "                         strides=[1, 1, 1, 1],\n",
    "                         padding='SAME')\n",
    "\n",
    "    # Add the biases to the results of the convolution.\n",
    "    # A bias-value is added to each filter-channel.\n",
    "    layer += biases\n",
    "\n",
    "    # Use pooling to down-sample the image resolution?\n",
    "    if use_pooling:\n",
    "        # This is 2x2 max-pooling, which means that we\n",
    "        # consider 2x2 windows and select the largest value\n",
    "        # in each window. Then we move 2 pixels to the next window.\n",
    "        layer = tf.nn.max_pool(value=layer,\n",
    "                               ksize=[1, 2, 2, 1],\n",
    "                               strides=[1, 2, 2, 1],\n",
    "                               padding='SAME')\n",
    "\n",
    "    # Rectified Linear Unit (ReLU).\n",
    "    # It calculates max(x, 0) for each input pixel x.\n",
    "    # This adds some non-linearity to the formula and allows us\n",
    "    # to learn more complicated functions.\n",
    "    layer = tf.nn.relu(layer)\n",
    "\n",
    "    # Note that ReLU is normally executed before the pooling,\n",
    "    # but since relu(max_pool(x)) == max_pool(relu(x)) we can\n",
    "    # save 75% of the relu-operations by max-pooling first.\n",
    "\n",
    "    # We return both the resulting layer and the filter-weights\n",
    "    # because we will plot the weights later.\n",
    "    return layer, weights"
   ]
  },
  {
   "cell_type": "markdown",
   "metadata": {},
   "source": [
    "### Helper-function for flattening a layer\n",
    "\n",
    "A convolutional layer produces an output tensor with 4 dimensions. We will add fully-connected layers after the convolution layers, so we need to reduce the 4-dim tensor to 2-dim which can be used as input to the fully-connected layer."
   ]
  },
  {
   "cell_type": "code",
   "execution_count": 117,
   "metadata": {},
   "outputs": [],
   "source": [
    "def flatten_layer(layer):\n",
    "    # Get the shape of the input layer.\n",
    "    layer_shape = layer.get_shape()\n",
    "\n",
    "    # The shape of the input layer is assumed to be:\n",
    "    # layer_shape == [num_images, img_height, img_width, num_channels]\n",
    "\n",
    "    # The number of features is: img_height * img_width * num_channels\n",
    "    # We can use a function from TensorFlow to calculate this.\n",
    "    num_features = layer_shape[1:4].num_elements()\n",
    "    \n",
    "    # Reshape the layer to [num_images, num_features].\n",
    "    # Note that we just set the size of the second dimension\n",
    "    # to num_features and the size of the first dimension to -1\n",
    "    # which means the size in that dimension is calculated\n",
    "    # so the total size of the tensor is unchanged from the reshaping.\n",
    "    layer_flat = tf.reshape(layer, [-1, num_features])\n",
    "\n",
    "    # The shape of the flattened layer is now:\n",
    "    # [num_images, img_height * img_width * num_channels]\n",
    "\n",
    "    # Return both the flattened layer and the number of features.\n",
    "    return layer_flat, num_features"
   ]
  },
  {
   "cell_type": "markdown",
   "metadata": {},
   "source": [
    "### Helper-function for creating a new Fully-Connected Layer"
   ]
  },
  {
   "cell_type": "markdown",
   "metadata": {},
   "source": [
    "This function creates a new fully-connected layer in the computational graph for TensorFlow. Nothing is actually calculated here, we are just adding the mathematical formulas to the TensorFlow graph.\n",
    "\n",
    "It is assumed that the input is a 2-dim tensor of shape `[num_images, num_inputs]`. The output is a 2-dim tensor of shape `[num_images, num_outputs]`."
   ]
  },
  {
   "cell_type": "code",
   "execution_count": 118,
   "metadata": {},
   "outputs": [],
   "source": [
    "def new_fc_layer(input,          # The previous layer.\n",
    "                 num_inputs,     # Num. inputs from prev. layer.\n",
    "                 num_outputs,    # Num. outputs.\n",
    "                 use_relu=True): # Use Rectified Linear Unit (ReLU)?\n",
    "\n",
    "    # Create new weights and biases.\n",
    "    weights = new_weights(shape=[num_inputs, num_outputs])\n",
    "    biases = new_biases(length=num_outputs)\n",
    "\n",
    "    # Calculate the layer as the matrix multiplication of\n",
    "    # the input and weights, and then add the bias-values.\n",
    "    layer = tf.matmul(input, weights) + biases\n",
    "\n",
    "    # Use ReLU?\n",
    "    if use_relu:\n",
    "        layer = tf.nn.relu(layer)\n",
    "\n",
    "    return layer"
   ]
  },
  {
   "cell_type": "markdown",
   "metadata": {},
   "source": [
    "### Placeholder variables"
   ]
  },
  {
   "cell_type": "markdown",
   "metadata": {},
   "source": [
    "Placeholder variables serve as the input to the TensorFlow computational graph that we may change each time we execute the graph. We call this feeding the placeholder variables and it is demonstrated further below.\n",
    "\n",
    "First we define the placeholder variable for the input images. This allows us to change the images that are input to the TensorFlow graph. This is a so-called tensor, which just means that it is a multi-dimensional vector or matrix. The data-type is set to `float32` and the shape is set to `[None, img_size_flat]`, where `None` means that the tensor may hold an arbitrary number of images with each image being a vector of length `img_size_flat`."
   ]
  },
  {
   "cell_type": "code",
   "execution_count": 119,
   "metadata": {},
   "outputs": [],
   "source": [
    "x = tf.placeholder(tf.float32, shape=[None, img_size_flat], name='x')"
   ]
  },
  {
   "cell_type": "markdown",
   "metadata": {},
   "source": [
    "The convolutional layers expect `x` to be encoded as a 4-dim tensor so we have to reshape it so its shape is instead `[num_images, img_height, img_width, num_channels]`. Note that `img_height == img_width == img_size` and `num_images` can be inferred automatically by using -1 for the size of the first dimension. So the reshape operation is:"
   ]
  },
  {
   "cell_type": "code",
   "execution_count": 120,
   "metadata": {},
   "outputs": [],
   "source": [
    "x_image = tf.reshape(x, [-1, img_size, img_size, num_channels])"
   ]
  },
  {
   "cell_type": "markdown",
   "metadata": {},
   "source": [
    "Next we have the placeholder variable for the true labels associated with the images that were input in the placeholder variable `x`. The shape of this placeholder variable is `[None, num_classes]` which means it may hold an arbitrary number of labels and each label is a vector of length `num_classes`."
   ]
  },
  {
   "cell_type": "code",
   "execution_count": 121,
   "metadata": {},
   "outputs": [
    {
     "name": "stdout",
     "output_type": "stream",
     "text": [
      "Tensor(\"y_true_2:0\", shape=(?, 2), dtype=float32)\n"
     ]
    }
   ],
   "source": [
    "y_true = tf.placeholder(tf.float32, shape=[None, num_classes], name='y_true')\n",
    "print(y_true)"
   ]
  },
  {
   "cell_type": "markdown",
   "metadata": {},
   "source": [
    "We could also have a placeholder variable for the class-number, but we will instead calculate it using argmax. Note that this is a TensorFlow operator so nothing is calculated at this point."
   ]
  },
  {
   "cell_type": "code",
   "execution_count": 122,
   "metadata": {},
   "outputs": [
    {
     "name": "stdout",
     "output_type": "stream",
     "text": [
      "Tensor(\"ArgMax_4:0\", shape=(?,), dtype=int64)\n"
     ]
    }
   ],
   "source": [
    "y_true_cls = tf.argmax(y_true, dimension=1)\n",
    "print(y_true_cls)"
   ]
  },
  {
   "cell_type": "markdown",
   "metadata": {},
   "source": [
    "### Convolutional Layer 1\n",
    "\n",
    "Create the first convolutional layer. It takes `x_image` as input and creates `num_filters1` different filters, each having width and height equal to `filter_size1`. Finally we wish to down-sample the image so it is half the size by using 2x2 max-pooling."
   ]
  },
  {
   "cell_type": "code",
   "execution_count": 123,
   "metadata": {},
   "outputs": [],
   "source": [
    "layer_conv1, weights_conv1 = \\\n",
    "    new_conv_layer(input=x_image,\n",
    "                   num_input_channels=num_channels,\n",
    "                   filter_size=filter_size1,\n",
    "                   num_filters=num_filters1,\n",
    "                   use_pooling=True)"
   ]
  },
  {
   "cell_type": "code",
   "execution_count": 124,
   "metadata": {},
   "outputs": [
    {
     "data": {
      "text/plain": [
       "<tf.Tensor 'Relu_8:0' shape=(?, 64, 64, 32) dtype=float32>"
      ]
     },
     "execution_count": 124,
     "metadata": {},
     "output_type": "execute_result"
    }
   ],
   "source": [
    "layer_conv1"
   ]
  },
  {
   "cell_type": "markdown",
   "metadata": {},
   "source": [
    "### Convolutional Layers 2 and 3\n",
    "\n",
    "Create the second and third convolutional layers, which take as input the output from the first and second convolutional layer respectively. The number of input channels corresponds to the number of filters in the previous convolutional layer."
   ]
  },
  {
   "cell_type": "code",
   "execution_count": 125,
   "metadata": {},
   "outputs": [],
   "source": [
    "layer_conv2, weights_conv2 = \\\n",
    "    new_conv_layer(input=layer_conv1,\n",
    "                   num_input_channels=num_filters1,\n",
    "                   filter_size=filter_size2,\n",
    "                   num_filters=num_filters2,\n",
    "                   use_pooling=True)"
   ]
  },
  {
   "cell_type": "code",
   "execution_count": 126,
   "metadata": {},
   "outputs": [
    {
     "data": {
      "text/plain": [
       "<tf.Tensor 'Relu_9:0' shape=(?, 32, 32, 32) dtype=float32>"
      ]
     },
     "execution_count": 126,
     "metadata": {},
     "output_type": "execute_result"
    }
   ],
   "source": [
    "layer_conv2"
   ]
  },
  {
   "cell_type": "code",
   "execution_count": 127,
   "metadata": {},
   "outputs": [],
   "source": [
    "layer_conv3, weights_conv3 = \\\n",
    "    new_conv_layer(input=layer_conv2,\n",
    "                   num_input_channels=num_filters2,\n",
    "                   filter_size=filter_size3,\n",
    "                   num_filters=num_filters3,\n",
    "                   use_pooling=True)"
   ]
  },
  {
   "cell_type": "code",
   "execution_count": 128,
   "metadata": {},
   "outputs": [
    {
     "data": {
      "text/plain": [
       "<tf.Tensor 'Relu_10:0' shape=(?, 16, 16, 64) dtype=float32>"
      ]
     },
     "execution_count": 128,
     "metadata": {},
     "output_type": "execute_result"
    }
   ],
   "source": [
    "layer_conv3"
   ]
  },
  {
   "cell_type": "markdown",
   "metadata": {},
   "source": [
    "### Flatten Layer\n",
    "\n",
    "The convolutional layers output 4-dim tensors. We now wish to use these as input in a fully-connected network, which requires for the tensors to be reshaped or flattened to 2-dim tensors."
   ]
  },
  {
   "cell_type": "code",
   "execution_count": 129,
   "metadata": {},
   "outputs": [],
   "source": [
    "layer_flat, num_features = flatten_layer(layer_conv3)"
   ]
  },
  {
   "cell_type": "code",
   "execution_count": 130,
   "metadata": {},
   "outputs": [
    {
     "data": {
      "text/plain": [
       "<tf.Tensor 'Reshape_5:0' shape=(?, 16384) dtype=float32>"
      ]
     },
     "execution_count": 130,
     "metadata": {},
     "output_type": "execute_result"
    }
   ],
   "source": [
    "layer_flat"
   ]
  },
  {
   "cell_type": "code",
   "execution_count": 131,
   "metadata": {},
   "outputs": [
    {
     "data": {
      "text/plain": [
       "16384"
      ]
     },
     "execution_count": 131,
     "metadata": {},
     "output_type": "execute_result"
    }
   ],
   "source": [
    "num_features"
   ]
  },
  {
   "cell_type": "markdown",
   "metadata": {},
   "source": [
    "### Fully-Connected Layer 1\n",
    "\n",
    "Add a fully-connected layer to the network. The input is the flattened layer from the previous convolution. The number of neurons or nodes in the fully-connected layer is `fc_size`. ReLU is used so we can learn non-linear relations."
   ]
  },
  {
   "cell_type": "code",
   "execution_count": 132,
   "metadata": {},
   "outputs": [],
   "source": [
    "layer_fc1 = new_fc_layer(input=layer_flat,\n",
    "                         num_inputs=num_features,\n",
    "                         num_outputs=fc_size,\n",
    "                         use_relu=True)"
   ]
  },
  {
   "cell_type": "markdown",
   "metadata": {},
   "source": [
    "Check that the output of the fully-connected layer is a tensor with shape (?, 128) where the ? means there is an arbitrary number of images and `fc_size` == 128."
   ]
  },
  {
   "cell_type": "code",
   "execution_count": 133,
   "metadata": {},
   "outputs": [
    {
     "data": {
      "text/plain": [
       "<tf.Tensor 'Relu_11:0' shape=(?, 128) dtype=float32>"
      ]
     },
     "execution_count": 133,
     "metadata": {},
     "output_type": "execute_result"
    }
   ],
   "source": [
    "layer_fc1"
   ]
  },
  {
   "cell_type": "markdown",
   "metadata": {},
   "source": [
    "### Fully-Connected Layer 2\n",
    "\n",
    "Add another fully-connected layer that outputs vectors of length num_classes for determining which of the classes the input image belongs to. Note that ReLU is not used in this layer."
   ]
  },
  {
   "cell_type": "code",
   "execution_count": 134,
   "metadata": {},
   "outputs": [],
   "source": [
    "layer_fc2 = new_fc_layer(input=layer_fc1,\n",
    "                         num_inputs=fc_size,\n",
    "                         num_outputs=num_classes,\n",
    "                         use_relu=False)"
   ]
  },
  {
   "cell_type": "code",
   "execution_count": 135,
   "metadata": {},
   "outputs": [
    {
     "data": {
      "text/plain": [
       "<tf.Tensor 'add_14:0' shape=(?, 2) dtype=float32>"
      ]
     },
     "execution_count": 135,
     "metadata": {},
     "output_type": "execute_result"
    }
   ],
   "source": [
    "layer_fc2"
   ]
  },
  {
   "cell_type": "markdown",
   "metadata": {},
   "source": [
    "### Predicted Class"
   ]
  },
  {
   "cell_type": "markdown",
   "metadata": {},
   "source": [
    "The second fully-connected layer estimates how likely it is that the input image belongs to each of the 2 classes. However, these estimates are a bit rough and difficult to interpret because the numbers may be very small or large, so we want to normalize them so that each element is limited between zero and one and the all the elements sum to one. This is calculated using the so-called softmax function and the result is stored in `y_pred`."
   ]
  },
  {
   "cell_type": "code",
   "execution_count": 136,
   "metadata": {},
   "outputs": [
    {
     "name": "stdout",
     "output_type": "stream",
     "text": [
      "Tensor(\"Softmax_2:0\", shape=(?, 2), dtype=float32)\n"
     ]
    }
   ],
   "source": [
    "y_pred = tf.nn.softmax(layer_fc2)\n",
    "print(y_pred)"
   ]
  },
  {
   "cell_type": "markdown",
   "metadata": {},
   "source": [
    "The class-number is the index of the largest element."
   ]
  },
  {
   "cell_type": "code",
   "execution_count": 137,
   "metadata": {},
   "outputs": [
    {
     "name": "stdout",
     "output_type": "stream",
     "text": [
      "Tensor(\"ArgMax_5:0\", shape=(?,), dtype=int64)\n"
     ]
    }
   ],
   "source": [
    "y_pred_cls = tf.argmax(y_pred, dimension=1)\n",
    "print(y_pred_cls)"
   ]
  },
  {
   "cell_type": "markdown",
   "metadata": {},
   "source": [
    "### Cost-function to be optimized"
   ]
  },
  {
   "cell_type": "markdown",
   "metadata": {},
   "source": [
    "To make the model better at classifying the input images, we must somehow change the variables for all the network layers. To do this we first need to know how well the model currently performs by comparing the predicted output of the model `y_pred` to the desired output `y_true`.\n",
    "\n",
    "The cross-entropy is a performance measure used in classification. The cross-entropy is a continuous function that is always positive and if the predicted output of the model exactly matches the desired output then the cross-entropy equals zero. The goal of optimization is therefore to minimize the cross-entropy so it gets as close to zero as possible by changing the variables of the network layers.\n",
    "\n",
    "TensorFlow has a built-in function for calculating the cross-entropy. Note that the function calculates the softmax internally so we must use the output of `layer_fc2` directly rather than `y_pred` which has already had the softmax applied."
   ]
  },
  {
   "cell_type": "code",
   "execution_count": 138,
   "metadata": {},
   "outputs": [],
   "source": [
    "cross_entropy = tf.nn.softmax_cross_entropy_with_logits(logits=layer_fc2,\n",
    "                                                        labels=y_true)"
   ]
  },
  {
   "cell_type": "markdown",
   "metadata": {},
   "source": [
    "We have now calculated the cross-entropy for each of the image classifications so we have a measure of how well the model performs on each image individually. But in order to use the cross-entropy to guide the optimization of the model's variables we need a single scalar value, so we simply take the average of the cross-entropy for all the image classifications."
   ]
  },
  {
   "cell_type": "code",
   "execution_count": 139,
   "metadata": {},
   "outputs": [],
   "source": [
    "cost = tf.reduce_mean(cross_entropy)"
   ]
  },
  {
   "cell_type": "markdown",
   "metadata": {},
   "source": [
    "### Optimization Method"
   ]
  },
  {
   "cell_type": "markdown",
   "metadata": {},
   "source": [
    "Now that we have a cost measure that must be minimized, we can then create an optimizer. In this case it is the `AdamOptimizer` which is an advanced form of Gradient Descent.\n",
    "\n",
    "Note that optimization is not performed at this point. In fact, nothing is calculated at all, we just add the optimizer-object to the TensorFlow graph for later execution."
   ]
  },
  {
   "cell_type": "code",
   "execution_count": 140,
   "metadata": {},
   "outputs": [],
   "source": [
    "optimizer = tf.train.AdamOptimizer(learning_rate=1e-4).minimize(cost)"
   ]
  },
  {
   "cell_type": "markdown",
   "metadata": {},
   "source": [
    "### Performance Measures"
   ]
  },
  {
   "cell_type": "markdown",
   "metadata": {},
   "source": [
    "We need a few more performance measures to display the progress to the user.\n",
    "\n",
    "This is a vector of booleans whether the predicted class equals the true class of each image."
   ]
  },
  {
   "cell_type": "code",
   "execution_count": 141,
   "metadata": {},
   "outputs": [
    {
     "name": "stdout",
     "output_type": "stream",
     "text": [
      "Tensor(\"Equal_2:0\", shape=(?,), dtype=bool)\n"
     ]
    }
   ],
   "source": [
    "correct_prediction = tf.equal(y_pred_cls, y_true_cls)\n",
    "print(correct_prediction)"
   ]
  },
  {
   "cell_type": "markdown",
   "metadata": {},
   "source": [
    "This calculates the classification accuracy by first type-casting the vector of booleans to floats, so that False becomes 0 and True becomes 1, and then calculating the average of these numbers."
   ]
  },
  {
   "cell_type": "code",
   "execution_count": 142,
   "metadata": {},
   "outputs": [
    {
     "name": "stdout",
     "output_type": "stream",
     "text": [
      "Tensor(\"Mean_5:0\", shape=(), dtype=float32)\n"
     ]
    }
   ],
   "source": [
    "accuracy = tf.reduce_mean(tf.cast(correct_prediction, tf.float32))\n",
    "print(accuracy)"
   ]
  },
  {
   "cell_type": "markdown",
   "metadata": {},
   "source": [
    "## TensorFlow Run"
   ]
  },
  {
   "cell_type": "markdown",
   "metadata": {},
   "source": [
    "### Create TensorFlow session\n",
    "\n",
    "Once the TensorFlow graph has been created, we have to create a TensorFlow session which is used to execute the graph."
   ]
  },
  {
   "cell_type": "code",
   "execution_count": 143,
   "metadata": {},
   "outputs": [],
   "source": [
    "\n",
    "config = tf.ConfigProto(\n",
    "        device_count = {'GPU': 0}\n",
    "    )\n",
    "session = tf.Session(config=config)"
   ]
  },
  {
   "cell_type": "markdown",
   "metadata": {},
   "source": [
    "### Initialize variables\n",
    "\n",
    "The variables for `weights` and `biases` must be initialized before we start optimizing them."
   ]
  },
  {
   "cell_type": "code",
   "execution_count": 144,
   "metadata": {},
   "outputs": [],
   "source": [
    "session.run(tf.initialize_all_variables())"
   ]
  },
  {
   "cell_type": "markdown",
   "metadata": {},
   "source": [
    "### Helper-function to perform optimization iterations"
   ]
  },
  {
   "cell_type": "markdown",
   "metadata": {},
   "source": [
    "It takes a long time to calculate the gradient of the model using the entirety of a large dataset\n",
    ". We therefore only use a small batch of images in each iteration of the optimizer.\n",
    "\n",
    "If your computer crashes or becomes very slow because you run out of RAM, then you may try and lower this number, but you may then need to perform more optimization iterations."
   ]
  },
  {
   "cell_type": "code",
   "execution_count": 145,
   "metadata": {},
   "outputs": [],
   "source": [
    "train_batch_size = batch_size"
   ]
  },
  {
   "cell_type": "code",
   "execution_count": 146,
   "metadata": {},
   "outputs": [],
   "source": [
    "def print_progress(epoch, feed_dict_train, feed_dict_validate, val_loss):\n",
    "    # Calculate the accuracy on the training-set.\n",
    "    acc = session.run(accuracy, feed_dict=feed_dict_train)\n",
    "    val_acc = session.run(accuracy, feed_dict=feed_dict_validate)\n",
    "    msg = \"Epoch {0} --- Training Accuracy: {1:>6.1%}, Validation Accuracy: {2:>6.1%}, Validation Loss: {3:.3f}\"\n",
    "    print(msg.format(epoch + 1, acc, val_acc, val_loss))"
   ]
  },
  {
   "cell_type": "markdown",
   "metadata": {},
   "source": [
    "Function for performing a number of optimization iterations so as to gradually improve the variables of the network layers. In each iteration, a new batch of data is selected from the training-set and then TensorFlow executes the optimizer using those training samples.  The progress is printed every 100 iterations."
   ]
  },
  {
   "cell_type": "code",
   "execution_count": 147,
   "metadata": {},
   "outputs": [],
   "source": [
    "# Counter for total number of iterations performed so far.\n",
    "total_iterations = 0\n",
    "\n",
    "def optimize(num_iterations):\n",
    "    # Ensure we update the global variable rather than a local copy.\n",
    "    global total_iterations\n",
    "\n",
    "    # Start-time used for printing time-usage below.\n",
    "    start_time = time.time()\n",
    "    \n",
    "    best_val_loss = float(\"inf\")\n",
    "    patience = 0\n",
    "\n",
    "    for i in range(total_iterations,\n",
    "                   total_iterations + num_iterations):\n",
    "\n",
    "        # Get a batch of training examples.\n",
    "        # x_batch now holds a batch of images and\n",
    "        # y_true_batch are the true labels for those images.\n",
    "        x_batch, y_true_batch, _, cls_batch = data.train.next_batch(train_batch_size)\n",
    "        x_valid_batch, y_valid_batch, _, valid_cls_batch = data.valid.next_batch(train_batch_size)\n",
    "\n",
    "        # Convert shape from [num examples, rows, columns, depth]\n",
    "        # to [num examples, flattened image shape]\n",
    "\n",
    "        x_batch = x_batch.reshape(train_batch_size, img_size_flat)\n",
    "        x_valid_batch = x_valid_batch.reshape(train_batch_size, img_size_flat)\n",
    "\n",
    "        # Put the batch into a dict with the proper names\n",
    "        # for placeholder variables in the TensorFlow graph.\n",
    "        feed_dict_train = {x: x_batch,\n",
    "                           y_true: y_true_batch}\n",
    "        \n",
    "        feed_dict_validate = {x: x_valid_batch,\n",
    "                              y_true: y_valid_batch}\n",
    "\n",
    "        # Run the optimizer using this batch of training data.\n",
    "        # TensorFlow assigns the variables in feed_dict_train\n",
    "        # to the placeholder variables and then runs the optimizer.\n",
    "        session.run(optimizer, feed_dict=feed_dict_train)\n",
    "        \n",
    "\n",
    "        # Print status at end of each epoch (defined as full pass through training dataset).\n",
    "        if i % int(data.train.num_examples/batch_size) == 0: \n",
    "            val_loss = session.run(cost, feed_dict=feed_dict_validate)\n",
    "            epoch = int(i / int(data.train.num_examples/batch_size))\n",
    "            \n",
    "            print_progress(epoch, feed_dict_train, feed_dict_validate, val_loss)\n",
    "            \n",
    "            if early_stopping:    \n",
    "                if val_loss < best_val_loss:\n",
    "                    best_val_loss = val_loss\n",
    "                    patience = 0\n",
    "                else:\n",
    "                    patience += 1\n",
    "\n",
    "                if patience == early_stopping:\n",
    "                    break\n",
    "\n",
    "    # Update the total number of iterations performed.\n",
    "    total_iterations += num_iterations\n",
    "\n",
    "    # Ending time.\n",
    "    end_time = time.time()\n",
    "\n",
    "    # Difference between start and end-times.\n",
    "    time_dif = end_time - start_time\n",
    "\n",
    "    # Print the time-usage.\n",
    "    print(\"Time elapsed: \" + str(timedelta(seconds=int(round(time_dif)))))"
   ]
  },
  {
   "cell_type": "markdown",
   "metadata": {},
   "source": [
    "### Helper-function to plot example errors"
   ]
  },
  {
   "cell_type": "markdown",
   "metadata": {},
   "source": [
    "Function for plotting examples of images from the test-set that have been mis-classified."
   ]
  },
  {
   "cell_type": "code",
   "execution_count": 148,
   "metadata": {},
   "outputs": [],
   "source": [
    "def plot_example_errors(cls_pred, correct):\n",
    "    # cls_pred is an array of the predicted class-number for\n",
    "    # all images in the test-set.\n",
    "\n",
    "    # correct is a boolean array whether the predicted class\n",
    "    # is equal to the true class for each image in the test-set.\n",
    "\n",
    "    # Negate the boolean array.\n",
    "    incorrect = (correct == False)\n",
    "    \n",
    "    # Get the images from the test-set that have been\n",
    "    # incorrectly classified.\n",
    "    images = data.valid.images[incorrect]\n",
    "    \n",
    "    # Get the predicted classes for those images.\n",
    "    cls_pred = cls_pred[incorrect]\n",
    "\n",
    "    # Get the true classes for those images.\n",
    "    cls_true = data.valid.cls[incorrect]\n",
    "    \n",
    "    # Plot the first 9 images.\n",
    "    plot_images(images=images[0:9],\n",
    "                cls_true=cls_true[0:9],\n",
    "                cls_pred=cls_pred[0:9])"
   ]
  },
  {
   "cell_type": "markdown",
   "metadata": {},
   "source": [
    "### Helper-function to plot confusion matrix"
   ]
  },
  {
   "cell_type": "code",
   "execution_count": 149,
   "metadata": {},
   "outputs": [],
   "source": [
    "def plot_confusion_matrix(cls_pred):\n",
    "    # cls_pred is an array of the predicted class-number for\n",
    "    # all images in the test-set.\n",
    "\n",
    "    # Get the true classifications for the test-set.\n",
    "    cls_true = data.valid.cls\n",
    "    \n",
    "    # Get the confusion matrix using sklearn.\n",
    "    cm = confusion_matrix(y_true=cls_true,\n",
    "                          y_pred=cls_pred)\n",
    "\n",
    "    # Print the confusion matrix as text.\n",
    "    print(cm)\n",
    "\n",
    "    # Plot the confusion matrix as an image.\n",
    "    plt.matshow(cm)\n",
    "\n",
    "    # Make various adjustments to the plot.\n",
    "    plt.colorbar()\n",
    "    tick_marks = np.arange(num_classes)\n",
    "    plt.xticks(tick_marks, range(num_classes))\n",
    "    plt.yticks(tick_marks, range(num_classes))\n",
    "    plt.xlabel('Predicted')\n",
    "    plt.ylabel('True')\n",
    "\n",
    "    # Ensure the plot is shown correctly with multiple plots\n",
    "    # in a single Notebook cell.\n",
    "    plt.show()"
   ]
  },
  {
   "cell_type": "markdown",
   "metadata": {},
   "source": [
    "### Helper-function for showing the performance"
   ]
  },
  {
   "cell_type": "markdown",
   "metadata": {},
   "source": [
    "Function for printing the classification accuracy on the test-set.\n",
    "\n",
    "It takes a while to compute the classification for all the images in the test-set, that's why the results are re-used by calling the above functions directly from this function, so the classifications don't have to be recalculated by each function.\n",
    "\n",
    "Note that this function can use a lot of computer memory, which is why the test-set is split into smaller batches. If you have little RAM in your computer and it crashes, then you can try and lower the batch-size."
   ]
  },
  {
   "cell_type": "code",
   "execution_count": 150,
   "metadata": {},
   "outputs": [],
   "source": [
    "def print_validation_accuracy(show_example_errors=False,\n",
    "                        show_confusion_matrix=False):\n",
    "\n",
    "    # Number of images in the test-set.\n",
    "    num_test = len(data.valid.images)\n",
    "   \n",
    "    \n",
    "\n",
    "    # Allocate an array for the predicted classes which\n",
    "    # will be calculated in batches and filled into this array.\n",
    "    cls_pred = np.zeros(shape=num_test, dtype=np.int)\n",
    "    print(cls_pred)\n",
    "\n",
    "    # Now calculate the predicted classes for the batches.\n",
    "    # We will just iterate through all the batches.\n",
    "    # There might be a more clever and Pythonic way of doing this.\n",
    "\n",
    "    # The starting index for the next batch is denoted i.\n",
    "    i = 0\n",
    "\n",
    "    while i < num_test:\n",
    "        # The ending index for the next batch is denoted j.\n",
    "        j = min(i + batch_size, num_test)\n",
    "        \n",
    "        print(j)\n",
    "        print(i)\n",
    "        # Get the images from the test-set between index i and j.\n",
    "        images = data.valid.images[i:j, :].reshape(train_batch_size,49152 )\n",
    "        \n",
    "\n",
    "        # Get the associated labels.\n",
    "        labels = data.valid.labels[i:j, :]\n",
    "        print(labels)\n",
    "\n",
    "        # Create a feed-dict with these images and labels.\n",
    "        feed_dict = {x: images,\n",
    "                     y_true: labels}\n",
    "\n",
    "        # Calculate the predicted class using TensorFlow.\n",
    "        cls_pred[i:j] = session.run(y_pred_cls, feed_dict=feed_dict)\n",
    "        print(cls_pred[i:j])\n",
    "\n",
    "        # Set the start-index for the next batch to the\n",
    "        # end-index of the current batch.\n",
    "        i = j\n",
    "        \n",
    "        \n",
    "    \n",
    "    cls_true = np.array(data.valid.cls)\n",
    "    print(cls_true)\n",
    "    cls_pred = np.array([classes[x] for x in cls_pred]) \n",
    "    print(cls_pred)\n",
    "\n",
    "    # Create a boolean array whether each image is correctly classified.\n",
    "    correct = (cls_true == cls_pred)\n",
    "\n",
    "    # Calculate the number of correctly classified images.\n",
    "    # When summing a boolean array, False means 0 and True means 1.\n",
    "    correct_sum = correct.sum()\n",
    "\n",
    "    # Classification accuracy is the number of correctly classified\n",
    "    # images divided by the total number of images in the test-set.\n",
    "    acc = float(correct_sum) / num_test\n",
    "\n",
    "    # Print the accuracy.\n",
    "    msg = \"Accuracy on Test-Set: {0:.1%} ({1} / {2})\"\n",
    "    print(msg.format(acc, correct_sum, num_test))\n",
    "\n",
    "    # Plot some examples of mis-classifications, if desired.\n",
    "    if show_example_errors:\n",
    "        print(\"Example errors:\")\n",
    "        plot_example_errors(cls_pred=cls_pred, correct=correct)\n",
    "\n",
    "    # Plot the confusion matrix, if desired.\n",
    "    if show_confusion_matrix:\n",
    "        print(\"Confusion Matrix:\")\n",
    "        plot_confusion_matrix(cls_pred=cls_pred)"
   ]
  },
  {
   "cell_type": "markdown",
   "metadata": {},
   "source": [
    "## Performance after 1 optimization iteration"
   ]
  },
  {
   "cell_type": "code",
   "execution_count": 151,
   "metadata": {
    "scrolled": true
   },
   "outputs": [
    {
     "name": "stdout",
     "output_type": "stream",
     "text": [
      "Epoch 1 --- Training Accuracy:  56.2%, Validation Accuracy:  59.4%, Validation Loss: 0.675\n",
      "Time elapsed: 0:00:01\n",
      "[0 0 0 0 0 0 0 0 0 0 0 0 0 0 0 0 0 0 0 0 0 0 0 0 0 0 0 0 0 0 0 0 0 0 0 0 0\n",
      " 0 0 0 0 0 0 0 0 0 0 0 0 0 0 0 0 0 0 0 0 0 0 0 0 0 0 0]\n",
      "32\n",
      "0\n",
      "[[0. 1.]\n",
      " [0. 1.]\n",
      " [1. 0.]\n",
      " [0. 1.]\n",
      " [0. 1.]\n",
      " [1. 0.]\n",
      " [1. 0.]\n",
      " [1. 0.]\n",
      " [1. 0.]\n",
      " [0. 1.]\n",
      " [1. 0.]\n",
      " [1. 0.]\n",
      " [1. 0.]\n",
      " [1. 0.]\n",
      " [0. 1.]\n",
      " [1. 0.]\n",
      " [0. 1.]\n",
      " [1. 0.]\n",
      " [1. 0.]\n",
      " [0. 1.]\n",
      " [1. 0.]\n",
      " [1. 0.]\n",
      " [1. 0.]\n",
      " [0. 1.]\n",
      " [0. 1.]\n",
      " [1. 0.]\n",
      " [1. 0.]\n",
      " [1. 0.]\n",
      " [1. 0.]\n",
      " [0. 1.]\n",
      " [0. 1.]\n",
      " [0. 1.]]\n",
      "[0 0 0 0 0 0 0 0 0 0 0 0 0 0 0 0 0 0 0 0 0 0 0 0 0 0 0 0 0 0 0 0]\n",
      "64\n",
      "32\n",
      "[[1. 0.]\n",
      " [0. 1.]\n",
      " [1. 0.]\n",
      " [0. 1.]\n",
      " [1. 0.]\n",
      " [0. 1.]\n",
      " [1. 0.]\n",
      " [0. 1.]\n",
      " [0. 1.]\n",
      " [1. 0.]\n",
      " [1. 0.]\n",
      " [0. 1.]\n",
      " [1. 0.]\n",
      " [1. 0.]\n",
      " [0. 1.]\n",
      " [0. 1.]\n",
      " [1. 0.]\n",
      " [1. 0.]\n",
      " [0. 1.]\n",
      " [0. 1.]\n",
      " [1. 0.]\n",
      " [1. 0.]\n",
      " [1. 0.]\n",
      " [0. 1.]\n",
      " [0. 1.]\n",
      " [0. 1.]\n",
      " [0. 1.]\n",
      " [0. 1.]\n",
      " [0. 1.]\n",
      " [1. 0.]\n",
      " [1. 0.]\n",
      " [0. 1.]]\n",
      "[0 0 0 0 0 0 0 0 0 0 0 0 0 0 0 0 0 0 0 0 0 0 0 0 0 0 0 0 0 0 0 0]\n",
      "['002.Laysan_Albatross' '002.Laysan_Albatross'\n",
      " '001.Black_footed_Albatross' '002.Laysan_Albatross'\n",
      " '002.Laysan_Albatross' '001.Black_footed_Albatross'\n",
      " '001.Black_footed_Albatross' '001.Black_footed_Albatross'\n",
      " '001.Black_footed_Albatross' '002.Laysan_Albatross'\n",
      " '001.Black_footed_Albatross' '001.Black_footed_Albatross'\n",
      " '001.Black_footed_Albatross' '001.Black_footed_Albatross'\n",
      " '002.Laysan_Albatross' '001.Black_footed_Albatross'\n",
      " '002.Laysan_Albatross' '001.Black_footed_Albatross'\n",
      " '001.Black_footed_Albatross' '002.Laysan_Albatross'\n",
      " '001.Black_footed_Albatross' '001.Black_footed_Albatross'\n",
      " '001.Black_footed_Albatross' '002.Laysan_Albatross'\n",
      " '002.Laysan_Albatross' '001.Black_footed_Albatross'\n",
      " '001.Black_footed_Albatross' '001.Black_footed_Albatross'\n",
      " '001.Black_footed_Albatross' '002.Laysan_Albatross'\n",
      " '002.Laysan_Albatross' '002.Laysan_Albatross'\n",
      " '001.Black_footed_Albatross' '002.Laysan_Albatross'\n",
      " '001.Black_footed_Albatross' '002.Laysan_Albatross'\n",
      " '001.Black_footed_Albatross' '002.Laysan_Albatross'\n",
      " '001.Black_footed_Albatross' '002.Laysan_Albatross'\n",
      " '002.Laysan_Albatross' '001.Black_footed_Albatross'\n",
      " '001.Black_footed_Albatross' '002.Laysan_Albatross'\n",
      " '001.Black_footed_Albatross' '001.Black_footed_Albatross'\n",
      " '002.Laysan_Albatross' '002.Laysan_Albatross'\n",
      " '001.Black_footed_Albatross' '001.Black_footed_Albatross'\n",
      " '002.Laysan_Albatross' '002.Laysan_Albatross'\n",
      " '001.Black_footed_Albatross' '001.Black_footed_Albatross'\n",
      " '001.Black_footed_Albatross' '002.Laysan_Albatross'\n",
      " '002.Laysan_Albatross' '002.Laysan_Albatross' '002.Laysan_Albatross'\n",
      " '002.Laysan_Albatross' '002.Laysan_Albatross'\n",
      " '001.Black_footed_Albatross' '001.Black_footed_Albatross'\n",
      " '002.Laysan_Albatross']\n",
      "['001.Black_footed_Albatross' '001.Black_footed_Albatross'\n",
      " '001.Black_footed_Albatross' '001.Black_footed_Albatross'\n",
      " '001.Black_footed_Albatross' '001.Black_footed_Albatross'\n",
      " '001.Black_footed_Albatross' '001.Black_footed_Albatross'\n",
      " '001.Black_footed_Albatross' '001.Black_footed_Albatross'\n",
      " '001.Black_footed_Albatross' '001.Black_footed_Albatross'\n",
      " '001.Black_footed_Albatross' '001.Black_footed_Albatross'\n",
      " '001.Black_footed_Albatross' '001.Black_footed_Albatross'\n",
      " '001.Black_footed_Albatross' '001.Black_footed_Albatross'\n",
      " '001.Black_footed_Albatross' '001.Black_footed_Albatross'\n",
      " '001.Black_footed_Albatross' '001.Black_footed_Albatross'\n",
      " '001.Black_footed_Albatross' '001.Black_footed_Albatross'\n",
      " '001.Black_footed_Albatross' '001.Black_footed_Albatross'\n",
      " '001.Black_footed_Albatross' '001.Black_footed_Albatross'\n",
      " '001.Black_footed_Albatross' '001.Black_footed_Albatross'\n",
      " '001.Black_footed_Albatross' '001.Black_footed_Albatross'\n",
      " '001.Black_footed_Albatross' '001.Black_footed_Albatross'\n",
      " '001.Black_footed_Albatross' '001.Black_footed_Albatross'\n",
      " '001.Black_footed_Albatross' '001.Black_footed_Albatross'\n",
      " '001.Black_footed_Albatross' '001.Black_footed_Albatross'\n",
      " '001.Black_footed_Albatross' '001.Black_footed_Albatross'\n",
      " '001.Black_footed_Albatross' '001.Black_footed_Albatross'\n",
      " '001.Black_footed_Albatross' '001.Black_footed_Albatross'\n",
      " '001.Black_footed_Albatross' '001.Black_footed_Albatross'\n",
      " '001.Black_footed_Albatross' '001.Black_footed_Albatross'\n",
      " '001.Black_footed_Albatross' '001.Black_footed_Albatross'\n",
      " '001.Black_footed_Albatross' '001.Black_footed_Albatross'\n",
      " '001.Black_footed_Albatross' '001.Black_footed_Albatross'\n",
      " '001.Black_footed_Albatross' '001.Black_footed_Albatross'\n",
      " '001.Black_footed_Albatross' '001.Black_footed_Albatross'\n",
      " '001.Black_footed_Albatross' '001.Black_footed_Albatross'\n",
      " '001.Black_footed_Albatross' '001.Black_footed_Albatross']\n",
      "Accuracy on Test-Set: 53.1% (34 / 64)\n"
     ]
    }
   ],
   "source": [
    "optimize(num_iterations=1)\n",
    "print_validation_accuracy()"
   ]
  },
  {
   "cell_type": "markdown",
   "metadata": {},
   "source": [
    "## Performance after 100 optimization iterations\n",
    "\n",
    "After 100 optimization iterations, the model should have significantly improved its classification accuracy."
   ]
  },
  {
   "cell_type": "code",
   "execution_count": 154,
   "metadata": {
    "scrolled": true
   },
   "outputs": [
    {
     "name": "stdout",
     "output_type": "stream",
     "text": [
      "Epoch 22 --- Training Accuracy:  65.6%, Validation Accuracy:  59.4%, Validation Loss: 0.671\n",
      "Epoch 23 --- Training Accuracy:  65.6%, Validation Accuracy:  78.1%, Validation Loss: 0.625\n",
      "Epoch 24 --- Training Accuracy:  62.5%, Validation Accuracy:  56.2%, Validation Loss: 0.676\n",
      "Epoch 25 --- Training Accuracy:  62.5%, Validation Accuracy:  78.1%, Validation Loss: 0.615\n",
      "Epoch 26 --- Training Accuracy:  65.6%, Validation Accuracy:  59.4%, Validation Loss: 0.671\n",
      "Epoch 27 --- Training Accuracy:  65.6%, Validation Accuracy:  78.1%, Validation Loss: 0.609\n",
      "Epoch 28 --- Training Accuracy:  71.9%, Validation Accuracy:  68.8%, Validation Loss: 0.655\n",
      "Epoch 29 --- Training Accuracy:  78.1%, Validation Accuracy:  71.9%, Validation Loss: 0.606\n",
      "Epoch 30 --- Training Accuracy:  81.2%, Validation Accuracy:  68.8%, Validation Loss: 0.643\n",
      "Epoch 31 --- Training Accuracy:  81.2%, Validation Accuracy:  71.9%, Validation Loss: 0.597\n",
      "Epoch 32 --- Training Accuracy:  75.0%, Validation Accuracy:  68.8%, Validation Loss: 0.643\n",
      "Epoch 33 --- Training Accuracy:  71.9%, Validation Accuracy:  71.9%, Validation Loss: 0.584\n",
      "Epoch 34 --- Training Accuracy:  75.0%, Validation Accuracy:  68.8%, Validation Loss: 0.641\n",
      "Epoch 35 --- Training Accuracy:  81.2%, Validation Accuracy:  71.9%, Validation Loss: 0.578\n",
      "Epoch 36 --- Training Accuracy:  81.2%, Validation Accuracy:  71.9%, Validation Loss: 0.626\n",
      "Epoch 37 --- Training Accuracy:  84.4%, Validation Accuracy:  68.8%, Validation Loss: 0.577\n",
      "Epoch 38 --- Training Accuracy:  81.2%, Validation Accuracy:  71.9%, Validation Loss: 0.619\n",
      "Epoch 39 --- Training Accuracy:  81.2%, Validation Accuracy:  71.9%, Validation Loss: 0.567\n",
      "Epoch 40 --- Training Accuracy:  81.2%, Validation Accuracy:  71.9%, Validation Loss: 0.621\n",
      "Epoch 41 --- Training Accuracy:  81.2%, Validation Accuracy:  71.9%, Validation Loss: 0.560\n",
      "Epoch 42 --- Training Accuracy:  84.4%, Validation Accuracy:  71.9%, Validation Loss: 0.613\n",
      "Epoch 43 --- Training Accuracy:  81.2%, Validation Accuracy:  68.8%, Validation Loss: 0.560\n",
      "Epoch 44 --- Training Accuracy:  81.2%, Validation Accuracy:  68.8%, Validation Loss: 0.608\n",
      "Epoch 45 --- Training Accuracy:  81.2%, Validation Accuracy:  68.8%, Validation Loss: 0.555\n",
      "Epoch 46 --- Training Accuracy:  81.2%, Validation Accuracy:  71.9%, Validation Loss: 0.612\n",
      "Epoch 47 --- Training Accuracy:  81.2%, Validation Accuracy:  68.8%, Validation Loss: 0.553\n",
      "Epoch 48 --- Training Accuracy:  81.2%, Validation Accuracy:  68.8%, Validation Loss: 0.604\n",
      "Epoch 49 --- Training Accuracy:  84.4%, Validation Accuracy:  68.8%, Validation Loss: 0.553\n",
      "Epoch 50 --- Training Accuracy:  81.2%, Validation Accuracy:  68.8%, Validation Loss: 0.605\n",
      "Epoch 51 --- Training Accuracy:  81.2%, Validation Accuracy:  68.8%, Validation Loss: 0.548\n",
      "Epoch 52 --- Training Accuracy:  84.4%, Validation Accuracy:  68.8%, Validation Loss: 0.600\n",
      "Epoch 53 --- Training Accuracy:  84.4%, Validation Accuracy:  71.9%, Validation Loss: 0.548\n",
      "Epoch 54 --- Training Accuracy:  87.5%, Validation Accuracy:  68.8%, Validation Loss: 0.593\n",
      "Epoch 55 --- Training Accuracy:  87.5%, Validation Accuracy:  68.8%, Validation Loss: 0.542\n",
      "Epoch 56 --- Training Accuracy:  90.6%, Validation Accuracy:  68.8%, Validation Loss: 0.590\n",
      "Epoch 57 --- Training Accuracy:  90.6%, Validation Accuracy:  71.9%, Validation Loss: 0.539\n",
      "Epoch 58 --- Training Accuracy:  90.6%, Validation Accuracy:  68.8%, Validation Loss: 0.580\n",
      "Epoch 59 --- Training Accuracy:  90.6%, Validation Accuracy:  71.9%, Validation Loss: 0.533\n",
      "Epoch 60 --- Training Accuracy:  90.6%, Validation Accuracy:  68.8%, Validation Loss: 0.575\n",
      "Epoch 61 --- Training Accuracy:  90.6%, Validation Accuracy:  71.9%, Validation Loss: 0.526\n",
      "Epoch 62 --- Training Accuracy:  90.6%, Validation Accuracy:  68.8%, Validation Loss: 0.563\n",
      "Epoch 63 --- Training Accuracy:  90.6%, Validation Accuracy:  71.9%, Validation Loss: 0.519\n",
      "Epoch 64 --- Training Accuracy:  90.6%, Validation Accuracy:  68.8%, Validation Loss: 0.557\n",
      "Epoch 65 --- Training Accuracy:  90.6%, Validation Accuracy:  71.9%, Validation Loss: 0.511\n",
      "Epoch 66 --- Training Accuracy:  90.6%, Validation Accuracy:  68.8%, Validation Loss: 0.545\n",
      "Epoch 67 --- Training Accuracy:  90.6%, Validation Accuracy:  71.9%, Validation Loss: 0.504\n",
      "Epoch 68 --- Training Accuracy:  90.6%, Validation Accuracy:  68.8%, Validation Loss: 0.538\n",
      "Epoch 69 --- Training Accuracy:  90.6%, Validation Accuracy:  75.0%, Validation Loss: 0.496\n",
      "Epoch 70 --- Training Accuracy:  90.6%, Validation Accuracy:  71.9%, Validation Loss: 0.525\n",
      "Epoch 71 --- Training Accuracy:  93.8%, Validation Accuracy:  75.0%, Validation Loss: 0.489\n",
      "Epoch 72 --- Training Accuracy:  93.8%, Validation Accuracy:  78.1%, Validation Loss: 0.516\n",
      "Epoch 73 --- Training Accuracy:  96.9%, Validation Accuracy:  71.9%, Validation Loss: 0.483\n",
      "Epoch 74 --- Training Accuracy:  96.9%, Validation Accuracy:  78.1%, Validation Loss: 0.503\n",
      "Epoch 75 --- Training Accuracy:  96.9%, Validation Accuracy:  71.9%, Validation Loss: 0.477\n",
      "Epoch 76 --- Training Accuracy:  96.9%, Validation Accuracy:  78.1%, Validation Loss: 0.494\n",
      "Epoch 77 --- Training Accuracy: 100.0%, Validation Accuracy:  68.8%, Validation Loss: 0.475\n",
      "Epoch 78 --- Training Accuracy: 100.0%, Validation Accuracy:  78.1%, Validation Loss: 0.487\n",
      "Epoch 79 --- Training Accuracy: 100.0%, Validation Accuracy:  65.6%, Validation Loss: 0.472\n",
      "Epoch 80 --- Training Accuracy: 100.0%, Validation Accuracy:  78.1%, Validation Loss: 0.481\n",
      "Epoch 81 --- Training Accuracy: 100.0%, Validation Accuracy:  65.6%, Validation Loss: 0.470\n",
      "Epoch 82 --- Training Accuracy: 100.0%, Validation Accuracy:  78.1%, Validation Loss: 0.477\n",
      "Epoch 83 --- Training Accuracy: 100.0%, Validation Accuracy:  65.6%, Validation Loss: 0.470\n",
      "Epoch 84 --- Training Accuracy: 100.0%, Validation Accuracy:  81.2%, Validation Loss: 0.474\n",
      "Epoch 85 --- Training Accuracy: 100.0%, Validation Accuracy:  65.6%, Validation Loss: 0.471\n",
      "Epoch 86 --- Training Accuracy: 100.0%, Validation Accuracy:  81.2%, Validation Loss: 0.468\n",
      "Epoch 87 --- Training Accuracy: 100.0%, Validation Accuracy:  68.8%, Validation Loss: 0.474\n",
      "Epoch 88 --- Training Accuracy: 100.0%, Validation Accuracy:  81.2%, Validation Loss: 0.467\n",
      "Epoch 89 --- Training Accuracy: 100.0%, Validation Accuracy:  68.8%, Validation Loss: 0.481\n",
      "Epoch 90 --- Training Accuracy: 100.0%, Validation Accuracy:  81.2%, Validation Loss: 0.467\n",
      "Epoch 91 --- Training Accuracy: 100.0%, Validation Accuracy:  71.9%, Validation Loss: 0.488\n",
      "Epoch 92 --- Training Accuracy: 100.0%, Validation Accuracy:  81.2%, Validation Loss: 0.464\n",
      "Epoch 93 --- Training Accuracy: 100.0%, Validation Accuracy:  71.9%, Validation Loss: 0.493\n",
      "Epoch 94 --- Training Accuracy: 100.0%, Validation Accuracy:  84.4%, Validation Loss: 0.463\n",
      "Epoch 95 --- Training Accuracy: 100.0%, Validation Accuracy:  71.9%, Validation Loss: 0.498\n",
      "Epoch 96 --- Training Accuracy: 100.0%, Validation Accuracy:  84.4%, Validation Loss: 0.465\n",
      "Epoch 97 --- Training Accuracy: 100.0%, Validation Accuracy:  71.9%, Validation Loss: 0.502\n",
      "Epoch 98 --- Training Accuracy: 100.0%, Validation Accuracy:  81.2%, Validation Loss: 0.465\n",
      "Epoch 99 --- Training Accuracy: 100.0%, Validation Accuracy:  71.9%, Validation Loss: 0.509\n",
      "Epoch 100 --- Training Accuracy: 100.0%, Validation Accuracy:  81.2%, Validation Loss: 0.469\n",
      "Epoch 101 --- Training Accuracy: 100.0%, Validation Accuracy:  71.9%, Validation Loss: 0.523\n",
      "Epoch 102 --- Training Accuracy: 100.0%, Validation Accuracy:  81.2%, Validation Loss: 0.479\n",
      "Epoch 103 --- Training Accuracy: 100.0%, Validation Accuracy:  71.9%, Validation Loss: 0.538\n",
      "Epoch 104 --- Training Accuracy: 100.0%, Validation Accuracy:  81.2%, Validation Loss: 0.486\n",
      "Epoch 105 --- Training Accuracy: 100.0%, Validation Accuracy:  71.9%, Validation Loss: 0.548\n",
      "Epoch 106 --- Training Accuracy: 100.0%, Validation Accuracy:  81.2%, Validation Loss: 0.490\n",
      "Epoch 107 --- Training Accuracy: 100.0%, Validation Accuracy:  71.9%, Validation Loss: 0.557\n",
      "Epoch 108 --- Training Accuracy: 100.0%, Validation Accuracy:  81.2%, Validation Loss: 0.497\n",
      "Epoch 109 --- Training Accuracy: 100.0%, Validation Accuracy:  71.9%, Validation Loss: 0.572\n",
      "Epoch 110 --- Training Accuracy: 100.0%, Validation Accuracy:  81.2%, Validation Loss: 0.513\n"
     ]
    },
    {
     "name": "stdout",
     "output_type": "stream",
     "text": [
      "Epoch 111 --- Training Accuracy: 100.0%, Validation Accuracy:  71.9%, Validation Loss: 0.582\n",
      "Epoch 112 --- Training Accuracy: 100.0%, Validation Accuracy:  81.2%, Validation Loss: 0.516\n",
      "Epoch 113 --- Training Accuracy: 100.0%, Validation Accuracy:  71.9%, Validation Loss: 0.589\n",
      "Epoch 114 --- Training Accuracy: 100.0%, Validation Accuracy:  81.2%, Validation Loss: 0.526\n",
      "Epoch 115 --- Training Accuracy: 100.0%, Validation Accuracy:  71.9%, Validation Loss: 0.603\n",
      "Epoch 116 --- Training Accuracy: 100.0%, Validation Accuracy:  81.2%, Validation Loss: 0.537\n",
      "Epoch 117 --- Training Accuracy: 100.0%, Validation Accuracy:  71.9%, Validation Loss: 0.611\n",
      "Epoch 118 --- Training Accuracy: 100.0%, Validation Accuracy:  81.2%, Validation Loss: 0.545\n",
      "Epoch 119 --- Training Accuracy: 100.0%, Validation Accuracy:  71.9%, Validation Loss: 0.626\n",
      "Epoch 120 --- Training Accuracy: 100.0%, Validation Accuracy:  78.1%, Validation Loss: 0.563\n",
      "Epoch 121 --- Training Accuracy: 100.0%, Validation Accuracy:  71.9%, Validation Loss: 0.639\n",
      "Time elapsed: 0:02:04\n"
     ]
    }
   ],
   "source": [
    "optimize(num_iterations=100)  # We already performed 1 iteration above."
   ]
  },
  {
   "cell_type": "code",
   "execution_count": 156,
   "metadata": {},
   "outputs": [
    {
     "name": "stdout",
     "output_type": "stream",
     "text": [
      "[0 0 0 0 0 0 0 0 0 0 0 0 0 0 0 0 0 0 0 0 0 0 0 0 0 0 0 0 0 0 0 0 0 0 0 0 0\n",
      " 0 0 0 0 0 0 0 0 0 0 0 0 0 0 0 0 0 0 0 0 0 0 0 0 0 0 0]\n",
      "32\n",
      "0\n",
      "[[0. 1.]\n",
      " [0. 1.]\n",
      " [1. 0.]\n",
      " [0. 1.]\n",
      " [0. 1.]\n",
      " [1. 0.]\n",
      " [1. 0.]\n",
      " [1. 0.]\n",
      " [1. 0.]\n",
      " [0. 1.]\n",
      " [1. 0.]\n",
      " [1. 0.]\n",
      " [1. 0.]\n",
      " [1. 0.]\n",
      " [0. 1.]\n",
      " [1. 0.]\n",
      " [0. 1.]\n",
      " [1. 0.]\n",
      " [1. 0.]\n",
      " [0. 1.]\n",
      " [1. 0.]\n",
      " [1. 0.]\n",
      " [1. 0.]\n",
      " [0. 1.]\n",
      " [0. 1.]\n",
      " [1. 0.]\n",
      " [1. 0.]\n",
      " [1. 0.]\n",
      " [1. 0.]\n",
      " [0. 1.]\n",
      " [0. 1.]\n",
      " [0. 1.]]\n",
      "[1 0 1 1 1 1 0 0 1 1 0 0 1 0 1 0 0 0 1 0 0 0 0 1 1 0 0 1 0 1 1 1]\n",
      "64\n",
      "32\n",
      "[[1. 0.]\n",
      " [0. 1.]\n",
      " [1. 0.]\n",
      " [0. 1.]\n",
      " [1. 0.]\n",
      " [0. 1.]\n",
      " [1. 0.]\n",
      " [0. 1.]\n",
      " [0. 1.]\n",
      " [1. 0.]\n",
      " [1. 0.]\n",
      " [0. 1.]\n",
      " [1. 0.]\n",
      " [1. 0.]\n",
      " [0. 1.]\n",
      " [0. 1.]\n",
      " [1. 0.]\n",
      " [1. 0.]\n",
      " [0. 1.]\n",
      " [0. 1.]\n",
      " [1. 0.]\n",
      " [1. 0.]\n",
      " [1. 0.]\n",
      " [0. 1.]\n",
      " [0. 1.]\n",
      " [0. 1.]\n",
      " [0. 1.]\n",
      " [0. 1.]\n",
      " [0. 1.]\n",
      " [1. 0.]\n",
      " [1. 0.]\n",
      " [0. 1.]]\n",
      "[0 1 0 1 0 1 0 1 1 1 0 0 0 0 1 0 0 0 0 0 0 0 0 1 0 0 1 1 1 0 0 1]\n",
      "['002.Laysan_Albatross' '002.Laysan_Albatross'\n",
      " '001.Black_footed_Albatross' '002.Laysan_Albatross'\n",
      " '002.Laysan_Albatross' '001.Black_footed_Albatross'\n",
      " '001.Black_footed_Albatross' '001.Black_footed_Albatross'\n",
      " '001.Black_footed_Albatross' '002.Laysan_Albatross'\n",
      " '001.Black_footed_Albatross' '001.Black_footed_Albatross'\n",
      " '001.Black_footed_Albatross' '001.Black_footed_Albatross'\n",
      " '002.Laysan_Albatross' '001.Black_footed_Albatross'\n",
      " '002.Laysan_Albatross' '001.Black_footed_Albatross'\n",
      " '001.Black_footed_Albatross' '002.Laysan_Albatross'\n",
      " '001.Black_footed_Albatross' '001.Black_footed_Albatross'\n",
      " '001.Black_footed_Albatross' '002.Laysan_Albatross'\n",
      " '002.Laysan_Albatross' '001.Black_footed_Albatross'\n",
      " '001.Black_footed_Albatross' '001.Black_footed_Albatross'\n",
      " '001.Black_footed_Albatross' '002.Laysan_Albatross'\n",
      " '002.Laysan_Albatross' '002.Laysan_Albatross'\n",
      " '001.Black_footed_Albatross' '002.Laysan_Albatross'\n",
      " '001.Black_footed_Albatross' '002.Laysan_Albatross'\n",
      " '001.Black_footed_Albatross' '002.Laysan_Albatross'\n",
      " '001.Black_footed_Albatross' '002.Laysan_Albatross'\n",
      " '002.Laysan_Albatross' '001.Black_footed_Albatross'\n",
      " '001.Black_footed_Albatross' '002.Laysan_Albatross'\n",
      " '001.Black_footed_Albatross' '001.Black_footed_Albatross'\n",
      " '002.Laysan_Albatross' '002.Laysan_Albatross'\n",
      " '001.Black_footed_Albatross' '001.Black_footed_Albatross'\n",
      " '002.Laysan_Albatross' '002.Laysan_Albatross'\n",
      " '001.Black_footed_Albatross' '001.Black_footed_Albatross'\n",
      " '001.Black_footed_Albatross' '002.Laysan_Albatross'\n",
      " '002.Laysan_Albatross' '002.Laysan_Albatross' '002.Laysan_Albatross'\n",
      " '002.Laysan_Albatross' '002.Laysan_Albatross'\n",
      " '001.Black_footed_Albatross' '001.Black_footed_Albatross'\n",
      " '002.Laysan_Albatross']\n",
      "['002.Laysan_Albatross' '001.Black_footed_Albatross'\n",
      " '002.Laysan_Albatross' '002.Laysan_Albatross' '002.Laysan_Albatross'\n",
      " '002.Laysan_Albatross' '001.Black_footed_Albatross'\n",
      " '001.Black_footed_Albatross' '002.Laysan_Albatross'\n",
      " '002.Laysan_Albatross' '001.Black_footed_Albatross'\n",
      " '001.Black_footed_Albatross' '002.Laysan_Albatross'\n",
      " '001.Black_footed_Albatross' '002.Laysan_Albatross'\n",
      " '001.Black_footed_Albatross' '001.Black_footed_Albatross'\n",
      " '001.Black_footed_Albatross' '002.Laysan_Albatross'\n",
      " '001.Black_footed_Albatross' '001.Black_footed_Albatross'\n",
      " '001.Black_footed_Albatross' '001.Black_footed_Albatross'\n",
      " '002.Laysan_Albatross' '002.Laysan_Albatross'\n",
      " '001.Black_footed_Albatross' '001.Black_footed_Albatross'\n",
      " '002.Laysan_Albatross' '001.Black_footed_Albatross'\n",
      " '002.Laysan_Albatross' '002.Laysan_Albatross' '002.Laysan_Albatross'\n",
      " '001.Black_footed_Albatross' '002.Laysan_Albatross'\n",
      " '001.Black_footed_Albatross' '002.Laysan_Albatross'\n",
      " '001.Black_footed_Albatross' '002.Laysan_Albatross'\n",
      " '001.Black_footed_Albatross' '002.Laysan_Albatross'\n",
      " '002.Laysan_Albatross' '002.Laysan_Albatross'\n",
      " '001.Black_footed_Albatross' '001.Black_footed_Albatross'\n",
      " '001.Black_footed_Albatross' '001.Black_footed_Albatross'\n",
      " '002.Laysan_Albatross' '001.Black_footed_Albatross'\n",
      " '001.Black_footed_Albatross' '001.Black_footed_Albatross'\n",
      " '001.Black_footed_Albatross' '001.Black_footed_Albatross'\n",
      " '001.Black_footed_Albatross' '001.Black_footed_Albatross'\n",
      " '001.Black_footed_Albatross' '002.Laysan_Albatross'\n",
      " '001.Black_footed_Albatross' '001.Black_footed_Albatross'\n",
      " '002.Laysan_Albatross' '002.Laysan_Albatross' '002.Laysan_Albatross'\n",
      " '001.Black_footed_Albatross' '001.Black_footed_Albatross'\n",
      " '002.Laysan_Albatross']\n",
      "Accuracy on Test-Set: 75.0% (48 / 64)\n",
      "Confusion Matrix:\n",
      "[[27  7]\n",
      " [ 9 21]]\n"
     ]
    },
    {
     "data": {
      "image/png": "[encoded data removed]",
      "text/plain": [
       "<matplotlib.figure.Figure at 0x1c34c09deb8>"
      ]
     },
     "metadata": {},
     "output_type": "display_data"
    }
   ],
   "source": [
    "print_validation_accuracy(show_confusion_matrix=True)"
   ]
  },
  {
   "cell_type": "markdown",
   "metadata": {},
   "source": [
    "## Performance after 1000 optimization iterations"
   ]
  },
  {
   "cell_type": "code",
   "execution_count": 102,
   "metadata": {
    "scrolled": false
   },
   "outputs": [
    {
     "name": "stdout",
     "output_type": "stream",
     "text": [
      "Epoch 10 --- Training Accuracy:  31.2%, Validation Accuracy:  25.0%, Validation Loss: 2.172\n",
      "Epoch 11 --- Training Accuracy:  37.5%, Validation Accuracy:  25.0%, Validation Loss: 2.159\n",
      "Epoch 12 --- Training Accuracy:  40.6%, Validation Accuracy:  28.1%, Validation Loss: 2.150\n",
      "Epoch 13 --- Training Accuracy:  37.5%, Validation Accuracy:  28.1%, Validation Loss: 2.140\n",
      "Epoch 14 --- Training Accuracy:  37.5%, Validation Accuracy:  28.1%, Validation Loss: 2.145\n",
      "Epoch 15 --- Training Accuracy:  43.8%, Validation Accuracy:  25.0%, Validation Loss: 2.150\n",
      "Epoch 16 --- Training Accuracy:  43.8%, Validation Accuracy:  25.0%, Validation Loss: 2.154\n",
      "Epoch 17 --- Training Accuracy:  43.8%, Validation Accuracy:  25.0%, Validation Loss: 2.158\n",
      "Epoch 18 --- Training Accuracy:  53.1%, Validation Accuracy:  25.0%, Validation Loss: 2.166\n",
      "Epoch 19 --- Training Accuracy:  53.1%, Validation Accuracy:  25.0%, Validation Loss: 2.175\n",
      "Epoch 20 --- Training Accuracy:  53.1%, Validation Accuracy:  28.1%, Validation Loss: 2.188\n",
      "Epoch 21 --- Training Accuracy:  53.1%, Validation Accuracy:  28.1%, Validation Loss: 2.200\n",
      "Epoch 22 --- Training Accuracy:  53.1%, Validation Accuracy:  28.1%, Validation Loss: 2.213\n",
      "Epoch 23 --- Training Accuracy:  53.1%, Validation Accuracy:  28.1%, Validation Loss: 2.221\n",
      "Epoch 24 --- Training Accuracy:  53.1%, Validation Accuracy:  28.1%, Validation Loss: 2.236\n",
      "Epoch 25 --- Training Accuracy:  53.1%, Validation Accuracy:  28.1%, Validation Loss: 2.244\n",
      "Epoch 26 --- Training Accuracy:  56.2%, Validation Accuracy:  28.1%, Validation Loss: 2.270\n",
      "Epoch 27 --- Training Accuracy:  62.5%, Validation Accuracy:  28.1%, Validation Loss: 2.289\n",
      "Epoch 28 --- Training Accuracy:  62.5%, Validation Accuracy:  28.1%, Validation Loss: 2.298\n",
      "Epoch 29 --- Training Accuracy:  65.6%, Validation Accuracy:  28.1%, Validation Loss: 2.318\n",
      "Epoch 30 --- Training Accuracy:  71.9%, Validation Accuracy:  28.1%, Validation Loss: 2.333\n",
      "Epoch 31 --- Training Accuracy:  71.9%, Validation Accuracy:  28.1%, Validation Loss: 2.353\n",
      "Epoch 32 --- Training Accuracy:  71.9%, Validation Accuracy:  28.1%, Validation Loss: 2.377\n",
      "Epoch 33 --- Training Accuracy:  75.0%, Validation Accuracy:  31.2%, Validation Loss: 2.391\n",
      "Epoch 34 --- Training Accuracy:  75.0%, Validation Accuracy:  31.2%, Validation Loss: 2.414\n",
      "Epoch 35 --- Training Accuracy:  75.0%, Validation Accuracy:  34.4%, Validation Loss: 2.431\n",
      "Epoch 36 --- Training Accuracy:  75.0%, Validation Accuracy:  34.4%, Validation Loss: 2.446\n",
      "Epoch 37 --- Training Accuracy:  75.0%, Validation Accuracy:  34.4%, Validation Loss: 2.467\n",
      "Epoch 38 --- Training Accuracy:  75.0%, Validation Accuracy:  34.4%, Validation Loss: 2.489\n",
      "Epoch 39 --- Training Accuracy:  75.0%, Validation Accuracy:  34.4%, Validation Loss: 2.508\n",
      "Epoch 40 --- Training Accuracy:  78.1%, Validation Accuracy:  34.4%, Validation Loss: 2.512\n",
      "Epoch 41 --- Training Accuracy:  78.1%, Validation Accuracy:  34.4%, Validation Loss: 2.536\n",
      "Epoch 42 --- Training Accuracy:  75.0%, Validation Accuracy:  34.4%, Validation Loss: 2.579\n",
      "Epoch 43 --- Training Accuracy:  75.0%, Validation Accuracy:  34.4%, Validation Loss: 2.586\n",
      "Epoch 44 --- Training Accuracy:  78.1%, Validation Accuracy:  34.4%, Validation Loss: 2.628\n",
      "Epoch 45 --- Training Accuracy:  78.1%, Validation Accuracy:  34.4%, Validation Loss: 2.622\n",
      "Time elapsed: 0:07:48\n"
     ]
    }
   ],
   "source": [
    "optimize(num_iterations=500)  # We performed 100 iterations above."
   ]
  },
  {
   "cell_type": "code",
   "execution_count": 101,
   "metadata": {
    "scrolled": true
   },
   "outputs": [
    {
     "name": "stdout",
     "output_type": "stream",
     "text": [
      "[0 0 0 0 0 0 0 0 0 0 0 0 0 0 0 0 0 0 0 0 0 0 0 0 0 0 0 0 0 0 0 0 0 0 0 0 0\n",
      " 0 0 0 0 0 0 0 0 0 0 0 0 0 0 0 0 0 0 0 0 0 0 0 0 0 0 0]\n",
      "32\n",
      "0\n",
      "[[0. 0. 0. 0. 1. 0. 0. 0. 0. 0.]\n",
      " [0. 0. 0. 0. 1. 0. 0. 0. 0. 0.]\n",
      " [0. 0. 1. 0. 0. 0. 0. 0. 0. 0.]\n",
      " [0. 0. 0. 0. 0. 1. 0. 0. 0. 0.]\n",
      " [0. 0. 0. 0. 0. 0. 0. 0. 0. 1.]\n",
      " [0. 0. 0. 1. 0. 0. 0. 0. 0. 0.]\n",
      " [0. 0. 0. 0. 0. 1. 0. 0. 0. 0.]\n",
      " [0. 0. 0. 0. 0. 0. 0. 1. 0. 0.]\n",
      " [0. 0. 0. 0. 0. 0. 0. 1. 0. 0.]\n",
      " [1. 0. 0. 0. 0. 0. 0. 0. 0. 0.]\n",
      " [0. 0. 0. 0. 0. 0. 0. 0. 0. 1.]\n",
      " [0. 0. 0. 0. 0. 0. 1. 0. 0. 0.]\n",
      " [0. 0. 0. 0. 0. 0. 0. 0. 1. 0.]\n",
      " [0. 0. 0. 0. 1. 0. 0. 0. 0. 0.]\n",
      " [0. 0. 0. 0. 0. 1. 0. 0. 0. 0.]\n",
      " [1. 0. 0. 0. 0. 0. 0. 0. 0. 0.]\n",
      " [0. 0. 0. 0. 0. 0. 0. 0. 1. 0.]\n",
      " [0. 0. 0. 0. 0. 0. 0. 0. 0. 1.]\n",
      " [0. 0. 0. 0. 0. 0. 0. 0. 1. 0.]\n",
      " [0. 1. 0. 0. 0. 0. 0. 0. 0. 0.]\n",
      " [0. 0. 0. 0. 0. 0. 1. 0. 0. 0.]\n",
      " [0. 0. 0. 0. 0. 0. 1. 0. 0. 0.]\n",
      " [0. 0. 0. 0. 0. 1. 0. 0. 0. 0.]\n",
      " [0. 0. 0. 0. 0. 0. 1. 0. 0. 0.]\n",
      " [0. 0. 0. 0. 0. 0. 0. 0. 1. 0.]\n",
      " [0. 0. 0. 0. 0. 0. 1. 0. 0. 0.]\n",
      " [0. 0. 0. 0. 0. 0. 0. 0. 1. 0.]\n",
      " [0. 0. 0. 1. 0. 0. 0. 0. 0. 0.]\n",
      " [0. 0. 0. 0. 0. 1. 0. 0. 0. 0.]\n",
      " [0. 0. 0. 0. 0. 1. 0. 0. 0. 0.]\n",
      " [0. 0. 0. 0. 0. 0. 0. 0. 1. 0.]\n",
      " [1. 0. 0. 0. 0. 0. 0. 0. 0. 0.]]\n",
      "[0 1 0 0 3 8 6 6 0 0 0 6 9 3 9 6 0 3 2 0 6 6 2 8 3 6 0 9 1 1 6 0]\n",
      "64\n",
      "32\n",
      "[[0. 0. 0. 0. 0. 0. 1. 0. 0. 0.]\n",
      " [0. 1. 0. 0. 0. 0. 0. 0. 0. 0.]\n",
      " [0. 1. 0. 0. 0. 0. 0. 0. 0. 0.]\n",
      " [0. 0. 0. 0. 0. 0. 0. 0. 1. 0.]\n",
      " [0. 0. 0. 0. 0. 0. 0. 1. 0. 0.]\n",
      " [0. 0. 0. 0. 0. 0. 0. 1. 0. 0.]\n",
      " [0. 0. 0. 0. 0. 0. 0. 0. 0. 1.]\n",
      " [0. 0. 0. 0. 0. 1. 0. 0. 0. 0.]\n",
      " [0. 0. 0. 0. 0. 0. 0. 1. 0. 0.]\n",
      " [0. 0. 0. 0. 0. 0. 0. 0. 0. 1.]\n",
      " [0. 0. 0. 0. 0. 0. 0. 0. 1. 0.]\n",
      " [0. 0. 0. 0. 1. 0. 0. 0. 0. 0.]\n",
      " [0. 0. 0. 0. 0. 0. 0. 1. 0. 0.]\n",
      " [0. 0. 0. 0. 0. 0. 0. 0. 0. 1.]\n",
      " [0. 0. 0. 0. 0. 1. 0. 0. 0. 0.]\n",
      " [0. 0. 0. 0. 1. 0. 0. 0. 0. 0.]\n",
      " [0. 0. 0. 1. 0. 0. 0. 0. 0. 0.]\n",
      " [0. 1. 0. 0. 0. 0. 0. 0. 0. 0.]\n",
      " [0. 0. 0. 0. 0. 0. 0. 1. 0. 0.]\n",
      " [0. 0. 1. 0. 0. 0. 0. 0. 0. 0.]\n",
      " [0. 1. 0. 0. 0. 0. 0. 0. 0. 0.]\n",
      " [0. 0. 0. 0. 0. 0. 0. 0. 1. 0.]\n",
      " [0. 0. 0. 0. 0. 0. 0. 0. 1. 0.]\n",
      " [0. 0. 0. 0. 0. 0. 0. 0. 0. 1.]\n",
      " [0. 0. 0. 0. 0. 0. 1. 0. 0. 0.]\n",
      " [0. 1. 0. 0. 0. 0. 0. 0. 0. 0.]\n",
      " [0. 0. 0. 1. 0. 0. 0. 0. 0. 0.]\n",
      " [0. 0. 0. 1. 0. 0. 0. 0. 0. 0.]\n",
      " [0. 0. 0. 0. 0. 0. 0. 0. 0. 1.]\n",
      " [0. 0. 0. 0. 1. 0. 0. 0. 0. 0.]\n",
      " [0. 0. 0. 1. 0. 0. 0. 0. 0. 0.]\n",
      " [0. 0. 0. 0. 0. 0. 0. 0. 1. 0.]]\n",
      "[8 0 0 0 2 2 2 1 0 6 3 6 2 9 0 0 0 2 0 0 0 2 0 9 2 6 9 3 9 0 3 3]\n",
      "['005.Crested_Auklet' '005.Crested_Auklet' '003.Sooty_Albatross'\n",
      " '006.Least_Auklet' '010.Red_winged_Blackbird' '004.Groove_billed_Ani'\n",
      " '006.Least_Auklet' '008.Rhinoceros_Auklet' '008.Rhinoceros_Auklet'\n",
      " '001.Black_footed_Albatross' '010.Red_winged_Blackbird'\n",
      " '007.Parakeet_Auklet' '009.Brewer_Blackbird' '005.Crested_Auklet'\n",
      " '006.Least_Auklet' '001.Black_footed_Albatross' '009.Brewer_Blackbird'\n",
      " '010.Red_winged_Blackbird' '009.Brewer_Blackbird' '002.Laysan_Albatross'\n",
      " '007.Parakeet_Auklet' '007.Parakeet_Auklet' '006.Least_Auklet'\n",
      " '007.Parakeet_Auklet' '009.Brewer_Blackbird' '007.Parakeet_Auklet'\n",
      " '009.Brewer_Blackbird' '004.Groove_billed_Ani' '006.Least_Auklet'\n",
      " '006.Least_Auklet' '009.Brewer_Blackbird' '001.Black_footed_Albatross'\n",
      " '007.Parakeet_Auklet' '002.Laysan_Albatross' '002.Laysan_Albatross'\n",
      " '009.Brewer_Blackbird' '008.Rhinoceros_Auklet' '008.Rhinoceros_Auklet'\n",
      " '010.Red_winged_Blackbird' '006.Least_Auklet' '008.Rhinoceros_Auklet'\n",
      " '010.Red_winged_Blackbird' '009.Brewer_Blackbird' '005.Crested_Auklet'\n",
      " '008.Rhinoceros_Auklet' '010.Red_winged_Blackbird' '006.Least_Auklet'\n",
      " '005.Crested_Auklet' '004.Groove_billed_Ani' '002.Laysan_Albatross'\n",
      " '008.Rhinoceros_Auklet' '003.Sooty_Albatross' '002.Laysan_Albatross'\n",
      " '009.Brewer_Blackbird' '009.Brewer_Blackbird' '010.Red_winged_Blackbird'\n",
      " '007.Parakeet_Auklet' '002.Laysan_Albatross' '004.Groove_billed_Ani'\n",
      " '004.Groove_billed_Ani' '010.Red_winged_Blackbird' '005.Crested_Auklet'\n",
      " '004.Groove_billed_Ani' '009.Brewer_Blackbird']\n",
      "['001.Black_footed_Albatross' '002.Laysan_Albatross'\n",
      " '001.Black_footed_Albatross' '001.Black_footed_Albatross'\n",
      " '004.Groove_billed_Ani' '009.Brewer_Blackbird' '007.Parakeet_Auklet'\n",
      " '007.Parakeet_Auklet' '001.Black_footed_Albatross'\n",
      " '001.Black_footed_Albatross' '001.Black_footed_Albatross'\n",
      " '007.Parakeet_Auklet' '010.Red_winged_Blackbird' '004.Groove_billed_Ani'\n",
      " '010.Red_winged_Blackbird' '007.Parakeet_Auklet'\n",
      " '001.Black_footed_Albatross' '004.Groove_billed_Ani'\n",
      " '003.Sooty_Albatross' '001.Black_footed_Albatross' '007.Parakeet_Auklet'\n",
      " '007.Parakeet_Auklet' '003.Sooty_Albatross' '009.Brewer_Blackbird'\n",
      " '004.Groove_billed_Ani' '007.Parakeet_Auklet'\n",
      " '001.Black_footed_Albatross' '010.Red_winged_Blackbird'\n",
      " '002.Laysan_Albatross' '002.Laysan_Albatross' '007.Parakeet_Auklet'\n",
      " '001.Black_footed_Albatross' '009.Brewer_Blackbird'\n",
      " '001.Black_footed_Albatross' '001.Black_footed_Albatross'\n",
      " '001.Black_footed_Albatross' '003.Sooty_Albatross' '003.Sooty_Albatross'\n",
      " '003.Sooty_Albatross' '002.Laysan_Albatross' '001.Black_footed_Albatross'\n",
      " '007.Parakeet_Auklet' '004.Groove_billed_Ani' '007.Parakeet_Auklet'\n",
      " '003.Sooty_Albatross' '010.Red_winged_Blackbird'\n",
      " '001.Black_footed_Albatross' '001.Black_footed_Albatross'\n",
      " '001.Black_footed_Albatross' '003.Sooty_Albatross'\n",
      " '001.Black_footed_Albatross' '001.Black_footed_Albatross'\n",
      " '001.Black_footed_Albatross' '003.Sooty_Albatross'\n",
      " '001.Black_footed_Albatross' '010.Red_winged_Blackbird'\n",
      " '003.Sooty_Albatross' '007.Parakeet_Auklet' '010.Red_winged_Blackbird'\n",
      " '004.Groove_billed_Ani' '010.Red_winged_Blackbird'\n",
      " '001.Black_footed_Albatross' '004.Groove_billed_Ani'\n",
      " '004.Groove_billed_Ani']\n",
      "Accuracy on Test-Set: 17.2% (11 / 64)\n",
      "Confusion Matrix:\n",
      "[[2 0 0 0 0 0 1 0 0 0]\n",
      " [4 0 1 0 0 0 1 0 0 0]\n",
      " [2 0 0 0 0 0 0 0 0 0]\n",
      " [1 0 0 2 0 0 0 0 1 2]\n",
      " [3 1 0 1 0 0 1 0 0 0]\n",
      " [2 3 1 0 0 0 1 0 0 1]\n",
      " [0 0 1 0 0 0 4 0 2 0]\n",
      " [3 0 3 0 0 0 1 0 0 0]\n",
      " [4 0 2 3 0 0 1 0 0 1]\n",
      " [1 0 1 2 0 0 1 0 0 3]]\n"
     ]
    },
    {
     "data": {
      "image/png": "[encoded data removed]",
      "text/plain": [
       "<matplotlib.figure.Figure at 0x1c35741cac8>"
      ]
     },
     "metadata": {},
     "output_type": "display_data"
    }
   ],
   "source": [
    "print_validation_accuracy(show_confusion_matrix=True)"
   ]
  },
  {
   "cell_type": "markdown",
   "metadata": {},
   "source": []
  },
  {
   "cell_type": "code",
   "execution_count": null,
   "metadata": {
    "scrolled": true
   },
   "outputs": [],
   "source": []
  },
  {
   "cell_type": "code",
   "execution_count": null,
   "metadata": {
    "scrolled": true
   },
   "outputs": [],
   "source": []
  },
  {
   "cell_type": "markdown",
   "metadata": {},
   "source": [
    "## Test on Sample Image"
   ]
  },
  {
   "cell_type": "code",
   "execution_count": 118,
   "metadata": {},
   "outputs": [
    {
     "data": {
      "image/png": "[encoded data removed]",
      "text/plain": [
       "<matplotlib.figure.Figure at 0x25c01562ba8>"
      ]
     },
     "metadata": {},
     "output_type": "display_data"
    }
   ],
   "source": [
    "plt.axis('off')\n",
    "\n",
    "test_cat = cv2.imread('abc.jpg')\n",
    "test_cat = cv2.resize(test_cat, (img_size, img_size), cv2.INTER_LINEAR) / 255\n",
    "\n",
    "preview_cat = plt.imshow(test_cat.reshape(img_size, img_size, num_channels))"
   ]
  },
  {
   "cell_type": "code",
   "execution_count": 119,
   "metadata": {},
   "outputs": [
    {
     "data": {
      "image/png": "[encoded data removed]",
      "text/plain": [
       "<matplotlib.figure.Figure at 0x25c015c5f98>"
      ]
     },
     "metadata": {},
     "output_type": "display_data"
    }
   ],
   "source": [
    "test_dog = cv2.imread('def.jpg')\n",
    "test_dog = cv2.resize(test_dog, (img_size, img_size), cv2.INTER_LINEAR) / 255\n",
    "\n",
    "preview_dog = plt.imshow(test_dog.reshape(img_size, img_size, num_channels))"
   ]
  },
  {
   "cell_type": "code",
   "execution_count": 120,
   "metadata": {},
   "outputs": [
    {
     "ename": "ValueError",
     "evalue": "Cannot feed value of shape (1, 2) for Tensor 'y_true_1:0', which has shape '(?, 17)'",
     "output_type": "error",
     "traceback": [
      "\u001b[1;31m---------------------------------------------------------------------------\u001b[0m",
      "\u001b[1;31mValueError\u001b[0m                                Traceback (most recent call last)",
      "\u001b[1;32m<ipython-input-120-3a50bbdc648a>\u001b[0m in \u001b[0;36m<module>\u001b[1;34m()\u001b[0m\n\u001b[0;32m      9\u001b[0m     \u001b[1;32mreturn\u001b[0m \u001b[0mclasses\u001b[0m\u001b[1;33m[\u001b[0m\u001b[0mtest_pred\u001b[0m\u001b[1;33m[\u001b[0m\u001b[1;36m0\u001b[0m\u001b[1;33m]\u001b[0m\u001b[1;33m]\u001b[0m\u001b[1;33m\u001b[0m\u001b[0m\n\u001b[0;32m     10\u001b[0m \u001b[1;33m\u001b[0m\u001b[0m\n\u001b[1;32m---> 11\u001b[1;33m \u001b[0mprint\u001b[0m\u001b[1;33m(\u001b[0m\u001b[1;34m\"Predicted class for test_cat: {}\"\u001b[0m\u001b[1;33m.\u001b[0m\u001b[0mformat\u001b[0m\u001b[1;33m(\u001b[0m\u001b[0msample_prediction\u001b[0m\u001b[1;33m(\u001b[0m\u001b[0mtest_cat\u001b[0m\u001b[1;33m)\u001b[0m\u001b[1;33m)\u001b[0m\u001b[1;33m)\u001b[0m\u001b[1;33m\u001b[0m\u001b[0m\n\u001b[0m\u001b[0;32m     12\u001b[0m \u001b[0mprint\u001b[0m\u001b[1;33m(\u001b[0m\u001b[1;34m\"Predicted class for test_dog: {}\"\u001b[0m\u001b[1;33m.\u001b[0m\u001b[0mformat\u001b[0m\u001b[1;33m(\u001b[0m\u001b[0msample_prediction\u001b[0m\u001b[1;33m(\u001b[0m\u001b[0mtest_dog\u001b[0m\u001b[1;33m)\u001b[0m\u001b[1;33m)\u001b[0m\u001b[1;33m)\u001b[0m\u001b[1;33m\u001b[0m\u001b[0m\n",
      "\u001b[1;32m<ipython-input-120-3a50bbdc648a>\u001b[0m in \u001b[0;36msample_prediction\u001b[1;34m(test_im)\u001b[0m\n\u001b[0;32m      6\u001b[0m     }\n\u001b[0;32m      7\u001b[0m \u001b[1;33m\u001b[0m\u001b[0m\n\u001b[1;32m----> 8\u001b[1;33m     \u001b[0mtest_pred\u001b[0m \u001b[1;33m=\u001b[0m \u001b[0msession\u001b[0m\u001b[1;33m.\u001b[0m\u001b[0mrun\u001b[0m\u001b[1;33m(\u001b[0m\u001b[0my_pred_cls\u001b[0m\u001b[1;33m,\u001b[0m \u001b[0mfeed_dict\u001b[0m\u001b[1;33m=\u001b[0m\u001b[0mfeed_dict_test\u001b[0m\u001b[1;33m)\u001b[0m\u001b[1;33m\u001b[0m\u001b[0m\n\u001b[0m\u001b[0;32m      9\u001b[0m     \u001b[1;32mreturn\u001b[0m \u001b[0mclasses\u001b[0m\u001b[1;33m[\u001b[0m\u001b[0mtest_pred\u001b[0m\u001b[1;33m[\u001b[0m\u001b[1;36m0\u001b[0m\u001b[1;33m]\u001b[0m\u001b[1;33m]\u001b[0m\u001b[1;33m\u001b[0m\u001b[0m\n\u001b[0;32m     10\u001b[0m \u001b[1;33m\u001b[0m\u001b[0m\n",
      "\u001b[1;32m~\\Anaconda3\\lib\\site-packages\\tensorflow\\python\\client\\session.py\u001b[0m in \u001b[0;36mrun\u001b[1;34m(self, fetches, feed_dict, options, run_metadata)\u001b[0m\n\u001b[0;32m    903\u001b[0m     \u001b[1;32mtry\u001b[0m\u001b[1;33m:\u001b[0m\u001b[1;33m\u001b[0m\u001b[0m\n\u001b[0;32m    904\u001b[0m       result = self._run(None, fetches, feed_dict, options_ptr,\n\u001b[1;32m--> 905\u001b[1;33m                          run_metadata_ptr)\n\u001b[0m\u001b[0;32m    906\u001b[0m       \u001b[1;32mif\u001b[0m \u001b[0mrun_metadata\u001b[0m\u001b[1;33m:\u001b[0m\u001b[1;33m\u001b[0m\u001b[0m\n\u001b[0;32m    907\u001b[0m         \u001b[0mproto_data\u001b[0m \u001b[1;33m=\u001b[0m \u001b[0mtf_session\u001b[0m\u001b[1;33m.\u001b[0m\u001b[0mTF_GetBuffer\u001b[0m\u001b[1;33m(\u001b[0m\u001b[0mrun_metadata_ptr\u001b[0m\u001b[1;33m)\u001b[0m\u001b[1;33m\u001b[0m\u001b[0m\n",
      "\u001b[1;32m~\\Anaconda3\\lib\\site-packages\\tensorflow\\python\\client\\session.py\u001b[0m in \u001b[0;36m_run\u001b[1;34m(self, handle, fetches, feed_dict, options, run_metadata)\u001b[0m\n\u001b[0;32m   1114\u001b[0m                              \u001b[1;34m'which has shape %r'\u001b[0m \u001b[1;33m%\u001b[0m\u001b[1;33m\u001b[0m\u001b[0m\n\u001b[0;32m   1115\u001b[0m                              (np_val.shape, subfeed_t.name,\n\u001b[1;32m-> 1116\u001b[1;33m                               str(subfeed_t.get_shape())))\n\u001b[0m\u001b[0;32m   1117\u001b[0m           \u001b[1;32mif\u001b[0m \u001b[1;32mnot\u001b[0m \u001b[0mself\u001b[0m\u001b[1;33m.\u001b[0m\u001b[0mgraph\u001b[0m\u001b[1;33m.\u001b[0m\u001b[0mis_feedable\u001b[0m\u001b[1;33m(\u001b[0m\u001b[0msubfeed_t\u001b[0m\u001b[1;33m)\u001b[0m\u001b[1;33m:\u001b[0m\u001b[1;33m\u001b[0m\u001b[0m\n\u001b[0;32m   1118\u001b[0m             \u001b[1;32mraise\u001b[0m \u001b[0mValueError\u001b[0m\u001b[1;33m(\u001b[0m\u001b[1;34m'Tensor %s may not be fed.'\u001b[0m \u001b[1;33m%\u001b[0m \u001b[0msubfeed_t\u001b[0m\u001b[1;33m)\u001b[0m\u001b[1;33m\u001b[0m\u001b[0m\n",
      "\u001b[1;31mValueError\u001b[0m: Cannot feed value of shape (1, 2) for Tensor 'y_true_1:0', which has shape '(?, 17)'"
     ]
    }
   ],
   "source": [
    "def sample_prediction(test_im):\n",
    "    \n",
    "    feed_dict_test = {\n",
    "        x: test_im.reshape(1, img_size_flat),\n",
    "        y_true: np.array([[1, 0]])\n",
    "    }\n",
    "\n",
    "    test_pred = session.run(y_pred_cls, feed_dict=feed_dict_test)\n",
    "    return classes[test_pred[0]]\n",
    "\n",
    "print(\"Predicted class for test_cat: {}\".format(sample_prediction(test_cat)))\n",
    "print(\"Predicted class for test_dog: {}\".format(sample_prediction(test_dog)))"
   ]
  },
  {
   "cell_type": "markdown",
   "metadata": {},
   "source": []
  },
  {
   "cell_type": "markdown",
   "metadata": {},
   "source": []
  },
  {
   "cell_type": "code",
   "execution_count": null,
   "metadata": {},
   "outputs": [],
   "source": []
  },
  {
   "cell_type": "markdown",
   "metadata": {},
   "source": [
    "### Helper-function for plotting the output of a convolutional layer"
   ]
  },
  {
   "cell_type": "code",
   "execution_count": null,
   "metadata": {},
   "outputs": [],
   "source": []
  },
  {
   "cell_type": "markdown",
   "metadata": {},
   "source": [
    "### Input Images"
   ]
  },
  {
   "cell_type": "markdown",
   "metadata": {},
   "source": [
    "Helper-function for plotting an image."
   ]
  },
  {
   "cell_type": "code",
   "execution_count": null,
   "metadata": {},
   "outputs": [],
   "source": []
  },
  {
   "cell_type": "markdown",
   "metadata": {},
   "source": [
    "Plot an image from the test-set which will be used as an example below."
   ]
  },
  {
   "cell_type": "code",
   "execution_count": null,
   "metadata": {},
   "outputs": [],
   "source": []
  },
  {
   "cell_type": "markdown",
   "metadata": {},
   "source": [
    "Plot another example image from the test-set."
   ]
  },
  {
   "cell_type": "code",
   "execution_count": null,
   "metadata": {},
   "outputs": [],
   "source": []
  },
  {
   "cell_type": "markdown",
   "metadata": {},
   "source": [
    "### Convolution Layer 1"
   ]
  },
  {
   "cell_type": "markdown",
   "metadata": {},
   "source": [
    "Now plot the filter-weights for the first convolutional layer.\n",
    "\n",
    "Note that positive weights are red and negative weights are blue."
   ]
  },
  {
   "cell_type": "code",
   "execution_count": null,
   "metadata": {
    "scrolled": false
   },
   "outputs": [],
   "source": []
  },
  {
   "cell_type": "markdown",
   "metadata": {},
   "source": [
    "Applying each of these convolutional filters to the first input image gives the following output images, which are then used as input to the second convolutional layer. Note that these images are down-sampled to about half the resolution of the original input image."
   ]
  },
  {
   "cell_type": "code",
   "execution_count": null,
   "metadata": {
    "scrolled": true
   },
   "outputs": [],
   "source": []
  },
  {
   "cell_type": "markdown",
   "metadata": {},
   "source": [
    "The following images are the results of applying the convolutional filters to the second image."
   ]
  },
  {
   "cell_type": "code",
   "execution_count": null,
   "metadata": {
    "scrolled": false
   },
   "outputs": [],
   "source": []
  },
  {
   "cell_type": "markdown",
   "metadata": {},
   "source": [
    "### Convolution Layer 2"
   ]
  },
  {
   "cell_type": "markdown",
   "metadata": {},
   "source": [
    "Now plot the filter-weights for the second convolutional layer.\n",
    "\n",
    "There are 16 output channels from the first conv-layer, which means there are 16 input channels to the second conv-layer. The second conv-layer has a set of filter-weights for each of its input channels. We start by plotting the filter-weigths for the first channel.\n",
    "\n",
    "Note again that positive weights are red and negative weights are blue."
   ]
  },
  {
   "cell_type": "code",
   "execution_count": null,
   "metadata": {
    "scrolled": false
   },
   "outputs": [],
   "source": []
  },
  {
   "cell_type": "markdown",
   "metadata": {},
   "source": [
    "There are 16 input channels to the second convolutional layer, so we can make another 15 plots of filter-weights like this. We just make one more with the filter-weights for the second channel. "
   ]
  },
  {
   "cell_type": "code",
   "execution_count": null,
   "metadata": {},
   "outputs": [],
   "source": []
  },
  {
   "cell_type": "markdown",
   "metadata": {},
   "source": [
    "It can be difficult to understand and keep track of how these filters are applied because of the high dimensionality.\n",
    "\n",
    "Applying these convolutional filters to the images that were ouput from the first conv-layer gives the following images.\n",
    "\n",
    "Note that these are down-sampled yet again to half the resolution of the images from the first conv-layer."
   ]
  },
  {
   "cell_type": "code",
   "execution_count": null,
   "metadata": {
    "scrolled": false
   },
   "outputs": [],
   "source": []
  },
  {
   "cell_type": "markdown",
   "metadata": {},
   "source": [
    "And these are the results of applying the filter-weights to the second image."
   ]
  },
  {
   "cell_type": "code",
   "execution_count": null,
   "metadata": {
    "scrolled": false
   },
   "outputs": [],
   "source": []
  },
  {
   "cell_type": "markdown",
   "metadata": {},
   "source": [
    "### Write Test Predictions to CSV"
   ]
  },
  {
   "cell_type": "code",
   "execution_count": null,
   "metadata": {},
   "outputs": [],
   "source": []
  },
  {
   "cell_type": "markdown",
   "metadata": {},
   "source": [
    "### Close TensorFlow Session"
   ]
  },
  {
   "cell_type": "markdown",
   "metadata": {},
   "source": [
    "We are now done using TensorFlow, so we close the session to release its resources."
   ]
  },
  {
   "cell_type": "code",
   "execution_count": null,
   "metadata": {},
   "outputs": [],
   "source": []
  },
  {
   "cell_type": "code",
   "execution_count": null,
   "metadata": {},
   "outputs": [],
   "source": []
  },
  {
   "cell_type": "code",
   "execution_count": null,
   "metadata": {},
   "outputs": [],
   "source": []
  },
  {
   "cell_type": "code",
   "execution_count": null,
   "metadata": {},
   "outputs": [],
   "source": []
  },
  {
   "cell_type": "code",
   "execution_count": null,
   "metadata": {},
   "outputs": [],
   "source": []
  },
  {
   "cell_type": "code",
   "execution_count": null,
   "metadata": {},
   "outputs": [],
   "source": []
  }
 ],
 "metadata": {
  "anaconda-cloud": {},
  "kernelspec": {
   "display_name": "Python 3",
   "language": "python",
   "name": "python3"
  },
  "language_info": {
   "codemirror_mode": {
    "name": "ipython",
    "version": 3
   },
   "file_extension": ".py",
   "mimetype": "text/x-python",
   "name": "python",
   "nbconvert_exporter": "python",
   "pygments_lexer": "ipython3",
   "version": "3.6.4"
  }
 },
 "nbformat": 4,
 "nbformat_minor": 1
}
